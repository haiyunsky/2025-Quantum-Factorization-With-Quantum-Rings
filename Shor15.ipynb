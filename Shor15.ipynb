{
 "cells": [
  {
   "cell_type": "markdown",
   "id": "255d7590-bf87-47d8-b0c6-ae67aef1403c",
   "metadata": {},
   "source": [
    "See how to use Shor's algorithm to factor 15 here:    <b><a href=\"https://portal.quantumrings.com/doc/Shors.html\">Shor15</a></b>"
   ]
  },
  {
   "cell_type": "markdown",
   "id": "546dce63-062e-49d0-922a-ab233b397a70",
   "metadata": {},
   "source": [
    "<i><b>Source code to factorize 15</b></i>"
   ]
  },
  {
   "cell_type": "markdown",
   "id": "85955e61-324f-4412-9bac-e6dd69699824",
   "metadata": {},
   "source": [
    "Note: Be sure to use your API token and your account name."
   ]
  },
  {
   "cell_type": "markdown",
   "id": "ef5152de-a79d-4a8e-9870-77a2d13e265e",
   "metadata": {},
   "source": [
    "Step 1. Import the required modules and obtain the backend"
   ]
  },
  {
   "cell_type": "code",
   "execution_count": 2,
   "id": "7d8feb85-e1a7-4d7d-aef7-3d4b95efe78a",
   "metadata": {},
   "outputs": [],
   "source": [
    "#!pip install qiskit[visualization]"
   ]
  },
  {
   "cell_type": "code",
   "execution_count": 3,
   "id": "23d7770b-4425-4000-86b6-b50d308672d7",
   "metadata": {},
   "outputs": [
    {
     "name": "stdout",
     "output_type": "stream",
     "text": [
      "1.3.2\n"
     ]
    }
   ],
   "source": [
    "import qiskit\n",
    "print (qiskit.__version__)"
   ]
  },
  {
   "cell_type": "code",
   "execution_count": 5,
   "id": "0679c3f9-fc03-4885-9a69-55bf3df3f1ca",
   "metadata": {},
   "outputs": [],
   "source": [
    "#!pip install QuantumRingsLib"
   ]
  },
  {
   "cell_type": "code",
   "execution_count": 6,
   "id": "8d69fdb2-d3c4-4897-88b6-306f4d97a001",
   "metadata": {},
   "outputs": [
    {
     "name": "stdout",
     "output_type": "stream",
     "text": [
      "Python 3.11.9\n"
     ]
    }
   ],
   "source": [
    "!python --version"
   ]
  },
  {
   "cell_type": "code",
   "execution_count": 7,
   "id": "1098cc1a-6195-4fb4-87bb-9001779b002c",
   "metadata": {},
   "outputs": [
    {
     "data": {
      "text/plain": [
       "{'name': 'g.scorpiosky@gmail.com',\n",
       " 'token': 'rings-128.TdVKnV6k5pEiSIyMIRYG05gLXKmUOJkq',\n",
       " 'max_qubits': '128'}"
      ]
     },
     "execution_count": 7,
     "metadata": {},
     "output_type": "execute_result"
    }
   ],
   "source": [
    "import QuantumRingsLib\n",
    "from QuantumRingsLib import QuantumRegister, AncillaRegister, ClassicalRegister, QuantumCircuit\n",
    "from QuantumRingsLib import QuantumRingsProvider\n",
    "from QuantumRingsLib import job_monitor\n",
    "from QuantumRingsLib import JobStatus\n",
    "from matplotlib import pyplot as plt\n",
    "import numpy as np\n",
    "import math\n",
    "\n",
    "provider = QuantumRingsProvider(\n",
    "    token='rings-128.TdVKnV6k5pEiSIyMIRYG05gLXKmUOJkq',\n",
    "    name='g.scorpiosky@gmail.com'\n",
    ")\n",
    "backend = provider.get_backend(\"scarlet_quantum_rings\")\n",
    "shots = 1024\n",
    "\n",
    "provider.active_account()"
   ]
  },
  {
   "cell_type": "code",
   "execution_count": 8,
   "id": "3e9a2e90-f15c-4e71-ba3d-b9e3a74131b7",
   "metadata": {},
   "outputs": [],
   "source": [
    "# qiskit lib\n",
    "from qiskit.circuit.library import QFT"
   ]
  },
  {
   "cell_type": "code",
   "execution_count": 40,
   "id": "1577e94e-b99a-4654-9b32-afc929711ec4",
   "metadata": {},
   "outputs": [],
   "source": [
    "def phase_estimation(\n",
    "        controlled_operation: QuantumCircuit,\n",
    "        psi_prep: QuantumCircuit,\n",
    "        precision: int\n",
    "    ):\n",
    "    \"\"\"\n",
    "    Carry out phase estimation on a simulator.\n",
    "    Args:\n",
    "        controlled_operation: The operation to perform phase estimation on,\n",
    "                              controlled by one qubit.\n",
    "        psi_prep: Circuit to prepare |ψ>\n",
    "        precision: Number of counting qubits to use\n",
    "    Returns:\n",
    "        float: Best guess for phase of U|ψ>\n",
    "    \"\"\"\n",
    "    control_register = QuantumRegister(precision)\n",
    "    output_register = ClassicalRegister(precision)\n",
    "\n",
    "    target_register = QuantumRegister(psi_prep.num_qubits)\n",
    "    qc = QuantumCircuit(control_register, target_register, output_register)\n",
    "\n",
    "    # Prepare |ψ>\n",
    "    qc.compose(psi_prep,\n",
    "               qubits=target_register,\n",
    "               inplace=True)\n",
    "\n",
    "    # Do phase estimation\n",
    "    for index, qubit in enumerate(control_register):\n",
    "        qc.h(qubit)\n",
    "        for _ in range(2**index):\n",
    "            qc.compose(\n",
    "                controlled_operation,\n",
    "                qubits=[qubit] + list(target_register),\n",
    "                inplace=True,\n",
    "            )\n",
    "\n",
    "    qc.compose(\n",
    "        QFT(precision, inverse=True),\n",
    "        qubits=control_register,\n",
    "        inplace=True\n",
    "    )\n",
    "\n",
    "    qc.measure(control_register, output_register)\n",
    "    \n",
    "    job = backend.run(qc, shots=shots)\n",
    "    job_monitor(job)\n",
    "    result = job.result()\n",
    "    counts = result.get_counts()\n",
    "    maxFreq = max(counts.values())\n",
    "    \n",
    "    phase = int(maxFreq/(2**N_COUNT))\n",
    "    print(f\"Corresponding Phase: {phase}\")\n",
    "    return phase"
   ]
  },
  {
   "cell_type": "code",
   "execution_count": 13,
   "id": "458fb060-65a8-4803-8c58-195177309807",
   "metadata": {},
   "outputs": [],
   "source": [
    "def a2jmodN(a, j, N):\n",
    "    \"\"\"Compute a^{2^j} (mod N) by repeated squaring\"\"\"\n",
    "    for _ in range(j):\n",
    "        a = np.mod(a**2, N)\n",
    "    return a"
   ]
  },
  {
   "cell_type": "code",
   "execution_count": 54,
   "id": "721a62c5-3ea7-4dc8-b16e-32e2767a37eb",
   "metadata": {},
   "outputs": [],
   "source": [
    "def c_amod15(a,N):\n",
    "    \"\"\"\n",
    "    Controlled multiplication by a mod 15 using QFT instead of SWAP.\n",
    "    \"\"\"\n",
    "    Q = 2**ceil(log2(N))\n",
    "    \n",
    "    U = QuantumCircuit(Q)\n",
    "    U.append(QFT(Q, do_swaps=False), range(Q))  # Apply QFT\n",
    "    \n",
    "    for qubit in range(Q):\n",
    "        U.swap(qubit, n-qubit-1)\n",
    "    for j in range(n):\n",
    "        for m in range(j):\n",
    "            U.cp(-np.pi/float(2**(j-m)), m, j)\n",
    "        U.h(j)\n",
    "    \n",
    "    U.append(qft_dagger(Q), range(Q))  # Apply inverse QFT\n",
    "    \n",
    "    U = U.to_gate()\n",
    "    U.name = f\"{a} mod N\"\n",
    "    c_U = U.control()\n",
    "    return c_U\n",
    "                "
   ]
  },
  {
   "cell_type": "code",
   "execution_count": 55,
   "id": "ae6c89ab-b795-4aaa-b87c-6eed8a2cb21a",
   "metadata": {},
   "outputs": [
    {
     "name": "stdout",
     "output_type": "stream",
     "text": [
      "\n",
      "Attempt 1\n"
     ]
    },
    {
     "ename": "TypeError",
     "evalue": "append(): incompatible function arguments. The following argument types are supported:\n    1. (self: QuantumRingsLib.QuantumCircuit, qc: QuantumRingsLib.QuantumCircuit, qubits_vector: list[int], cbits_vector: list[int]) -> int\n    2. (self: QuantumRingsLib.QuantumCircuit, g: QuantumRingsLib.Gate, qubits_vector: list[int], cbits_vector: list[int]) -> int\n\nInvoked with:          \nq[0]:  ■ \n         \nq[1]:  ■ \n         \nq[2]:  ■ \n         \nq[3]:  ■ \n         \nq[4]:  ■ \n         \nq[5]:  ■ \n         \nq[6]:  ■ \n         \nq[7]:  ■ \n         \nq[8]:  ■ \n         \nq[9]:  ■ \n         \nq[10]: ■ \n         \nq[11]: ■ \n         \nq[12]: ■ \n         \nq[13]: ■ \n         \nq[14]: ■ \n         \nq[15]: ■ \n         \nc: 16/ ■ \n         \n, <qiskit.circuit.library.basis_change.qft.QFT object at 0x7acf162ea310>, range(0, 16)",
     "output_type": "error",
     "traceback": [
      "\u001b[0;31m---------------------------------------------------------------------------\u001b[0m",
      "\u001b[0;31mTypeError\u001b[0m                                 Traceback (most recent call last)",
      "Cell \u001b[0;32mIn[55], line 19\u001b[0m\n\u001b[1;32m     15\u001b[0m ATTEMPT \u001b[38;5;241m+\u001b[39m\u001b[38;5;241m=\u001b[39m \u001b[38;5;241m1\u001b[39m\n\u001b[1;32m     16\u001b[0m \u001b[38;5;28mprint\u001b[39m(\u001b[38;5;124mf\u001b[39m\u001b[38;5;124m\"\u001b[39m\u001b[38;5;130;01m\\n\u001b[39;00m\u001b[38;5;124mAttempt \u001b[39m\u001b[38;5;132;01m{\u001b[39;00mATTEMPT\u001b[38;5;132;01m}\u001b[39;00m\u001b[38;5;124m\"\u001b[39m)\n\u001b[1;32m     18\u001b[0m phase \u001b[38;5;241m=\u001b[39m phase_estimation(\n\u001b[0;32m---> 19\u001b[0m     \u001b[43mc_amod15\u001b[49m\u001b[43m(\u001b[49m\u001b[43ma\u001b[49m\u001b[43m,\u001b[49m\u001b[43mN\u001b[49m\u001b[43m)\u001b[49m,\n\u001b[1;32m     20\u001b[0m     psi_prep,\n\u001b[1;32m     21\u001b[0m     precision\u001b[38;5;241m=\u001b[39mQ\n\u001b[1;32m     22\u001b[0m )\n\u001b[1;32m     23\u001b[0m frac \u001b[38;5;241m=\u001b[39m Fraction(phase)\u001b[38;5;241m.\u001b[39mlimit_denominator(N)\n\u001b[1;32m     24\u001b[0m r \u001b[38;5;241m=\u001b[39m frac\u001b[38;5;241m.\u001b[39mdenominator\n",
      "Cell \u001b[0;32mIn[54], line 8\u001b[0m, in \u001b[0;36mc_amod15\u001b[0;34m(a, N)\u001b[0m\n\u001b[1;32m      5\u001b[0m Q \u001b[38;5;241m=\u001b[39m \u001b[38;5;241m2\u001b[39m\u001b[38;5;241m*\u001b[39m\u001b[38;5;241m*\u001b[39mceil(log2(N))\n\u001b[1;32m      7\u001b[0m U \u001b[38;5;241m=\u001b[39m QuantumCircuit(Q)\n\u001b[0;32m----> 8\u001b[0m \u001b[43mU\u001b[49m\u001b[38;5;241;43m.\u001b[39;49m\u001b[43mappend\u001b[49m\u001b[43m(\u001b[49m\u001b[43mQFT\u001b[49m\u001b[43m(\u001b[49m\u001b[43mQ\u001b[49m\u001b[43m,\u001b[49m\u001b[43m \u001b[49m\u001b[43mdo_swaps\u001b[49m\u001b[38;5;241;43m=\u001b[39;49m\u001b[38;5;28;43;01mFalse\u001b[39;49;00m\u001b[43m)\u001b[49m\u001b[43m,\u001b[49m\u001b[43m \u001b[49m\u001b[38;5;28;43mrange\u001b[39;49m\u001b[43m(\u001b[49m\u001b[43mQ\u001b[49m\u001b[43m)\u001b[49m\u001b[43m)\u001b[49m  \u001b[38;5;66;03m# Apply QFT\u001b[39;00m\n\u001b[1;32m     10\u001b[0m \u001b[38;5;28;01mfor\u001b[39;00m qubit \u001b[38;5;129;01min\u001b[39;00m \u001b[38;5;28mrange\u001b[39m(Q):\n\u001b[1;32m     11\u001b[0m     U\u001b[38;5;241m.\u001b[39mswap(qubit, n\u001b[38;5;241m-\u001b[39mqubit\u001b[38;5;241m-\u001b[39m\u001b[38;5;241m1\u001b[39m)\n",
      "\u001b[0;31mTypeError\u001b[0m: append(): incompatible function arguments. The following argument types are supported:\n    1. (self: QuantumRingsLib.QuantumCircuit, qc: QuantumRingsLib.QuantumCircuit, qubits_vector: list[int], cbits_vector: list[int]) -> int\n    2. (self: QuantumRingsLib.QuantumCircuit, g: QuantumRingsLib.Gate, qubits_vector: list[int], cbits_vector: list[int]) -> int\n\nInvoked with:          \nq[0]:  ■ \n         \nq[1]:  ■ \n         \nq[2]:  ■ \n         \nq[3]:  ■ \n         \nq[4]:  ■ \n         \nq[5]:  ■ \n         \nq[6]:  ■ \n         \nq[7]:  ■ \n         \nq[8]:  ■ \n         \nq[9]:  ■ \n         \nq[10]: ■ \n         \nq[11]: ■ \n         \nq[12]: ■ \n         \nq[13]: ■ \n         \nq[14]: ■ \n         \nq[15]: ■ \n         \nc: 16/ ■ \n         \n, <qiskit.circuit.library.basis_change.qft.QFT object at 0x7acf162ea310>, range(0, 16)"
     ]
    }
   ],
   "source": [
    "from fractions import Fraction\n",
    "from math import gcd, ceil, log2\n",
    "j = 143\n",
    "N = 8\n",
    "a = a2jmodN(a, j, N)\n",
    "N = 15\n",
    "\n",
    "Q = 2**ceil(log2(N))\n",
    "psi_prep = QuantumCircuit(Q)\n",
    "psi_prep.x(0)\n",
    "\n",
    "FACTOR_FOUND = False\n",
    "ATTEMPT = 0\n",
    "while not FACTOR_FOUND:\n",
    "    ATTEMPT += 1\n",
    "    print(f\"\\nAttempt {ATTEMPT}\")\n",
    "\n",
    "    phase = phase_estimation(\n",
    "        c_amod15(a,N),\n",
    "        psi_prep,\n",
    "        precision=Q\n",
    "    )\n",
    "    frac = Fraction(phase).limit_denominator(N)\n",
    "    r = frac.denominator\n",
    "    if phase != 0:\n",
    "        # Guess for a factor is gcd(x^{r/2} - 1 , 15)\n",
    "        guess = gcd(a ** (r // 2) - 1, N)\n",
    "        if guess not in [1, N] and (N % guess) == 0:\n",
    "            # Guess is a factor!\n",
    "            print(f\"Non-trivial factor found: {guess}\")\n",
    "            FACTOR_FOUND = True"
   ]
  },
  {
   "cell_type": "markdown",
   "id": "f92608ce-86bd-4760-bc1c-ca7e722ae280",
   "metadata": {},
   "source": [
    "Step 2. Define the core methods"
   ]
  },
  {
   "cell_type": "code",
   "execution_count": null,
   "id": "f32086a1-a980-4d19-8f14-0adcaae9c9c9",
   "metadata": {},
   "outputs": [],
   "source": [
    "def iqft_cct(qc, b, n):\n",
    "    \"\"\"\n",
    "    The inverse QFT circuit\n",
    "\n",
    "    Args:\n",
    "\n",
    "        qc (QuantumCircuit):\n",
    "                The quantum circuit\n",
    "\n",
    "        b (QuantumRegister):\n",
    "                The target register\n",
    "\n",
    "        n (int):\n",
    "                The number of qubits in the registers to use\n",
    "\n",
    "    Returns:\n",
    "        None\n",
    "\n",
    "    \"\"\"\n",
    "\n",
    "    for i in range (n):\n",
    "        for j in range (1, i+1):\n",
    "            # for inverse transform, we have to use negative angles\n",
    "            qc.cu1(  -math.pi / 2** ( i -j + 1 ), b[j - 1], b[i])\n",
    "        # the H transform should be done after the rotations\n",
    "        qc.h(b[i])\n",
    "    qc.barrier()\n",
    "    return\n",
    "\n",
    "def plot_histogram (counts, title=\"\"):\n",
    "    \"\"\"\n",
    "    Plots the histogram of the counts\n",
    "\n",
    "    Args:\n",
    "\n",
    "        counts (dict):\n",
    "            The dictionary containing the counts of states\n",
    "\n",
    "        titles (str):\n",
    "            A title for the graph.\n",
    "\n",
    "    Returns:\n",
    "        None\n",
    "\n",
    "    \"\"\"\n",
    "    fig, ax = plt.subplots(figsize =(10, 7))\n",
    "    plt.xlabel(\"States\")\n",
    "    plt.ylabel(\"Counts\")\n",
    "    mylist = [key for key, val in counts.items() for _ in range(val)]\n",
    "\n",
    "    unique, inverse = np.unique(mylist, return_inverse=True)\n",
    "    bin_counts = np.bincount(inverse)\n",
    "\n",
    "    plt.bar(unique, bin_counts)\n",
    "\n",
    "    maxFreq = max(counts.values())\n",
    "    plt.ylim(ymax=np.ceil(maxFreq / 10) * 10 if maxFreq % 10 else maxFreq + 10)\n",
    "    # Show plot\n",
    "    plt.title(title)\n",
    "    plt.show()\n",
    "    return"
   ]
  },
  {
   "cell_type": "markdown",
   "id": "2f211c13-04db-4f78-b700-5bde24875ab8",
   "metadata": {},
   "source": [
    "Step 3. Perform the algorithm"
   ]
  },
  {
   "cell_type": "code",
   "execution_count": null,
   "id": "90af8eb2-e56e-46ff-baf2-fed0c08306f9",
   "metadata": {},
   "outputs": [],
   "source": [
    "# Shor’s algorithm to factorize 15 using 7^x mod 15.\n",
    "numberofqubits = 7\n",
    "shots = 1024\n",
    "\n",
    "q = QuantumRegister(numberofqubits , 'q')\n",
    "c = ClassicalRegister(4 , 'c')\n",
    "qc = QuantumCircuit(q, c)\n",
    "\n",
    "# Initialize source and target registers\n",
    "qc.h(0)\n",
    "qc.h(1)\n",
    "qc.h(2)\n",
    "qc.x(6)\n",
    "qc.barrier()\n",
    "\n",
    "# Modular exponentiation 7^x mod 15\n",
    "qc.cx(q[2],q[4] )\n",
    "qc.cx(q[2],q[5] )\n",
    "qc.cx(q[6],q[4] )\n",
    "qc.ccx(q[1],q[5],q[3] )\n",
    "qc.cx(q[3],q[5] )\n",
    "qc.ccx(q[1],q[4],q[6] )\n",
    "qc.cx(q[6],q[4] ) #\n",
    "qc.barrier()\n",
    "\n",
    "# IQFT. Refer to implementation from earlier examples\n",
    "iqft_cct (qc, q, 3)\n",
    "\n",
    "# Measure\n",
    "qc.measure(q[0], c[0])\n",
    "qc.measure(q[1], c[1])\n",
    "qc.measure(q[2], c[2])\n",
    "\n",
    "# Draw the circuit\n",
    "qc.draw('mpl')"
   ]
  },
  {
   "cell_type": "markdown",
   "id": "72783cb3-a464-4a9c-98ac-9ad533f53222",
   "metadata": {},
   "source": [
    "The circuit to factor 15 shown above."
   ]
  },
  {
   "cell_type": "code",
   "execution_count": null,
   "id": "1923d677-ed19-4892-a44e-66f05fca3406",
   "metadata": {},
   "outputs": [],
   "source": [
    "# Execute the circuit\n",
    "job = backend.run(qc, shots=shots)\n",
    "job_monitor(job)\n",
    "result = job.result()\n",
    "counts = result.get_counts()\n",
    "\n",
    "# visualize\n",
    "plot_histogram(counts)\n",
    "\n",
    "#clean up\n",
    "del q, c, qc\n",
    "del result\n",
    "del job"
   ]
  },
  {
   "cell_type": "markdown",
   "id": "d69fcca9-6545-4f8a-9758-0865e240a57e",
   "metadata": {},
   "source": [
    "A plot of the execution results is shown above. Compare this with the calculated values."
   ]
  },
  {
   "cell_type": "markdown",
   "id": "f4545dfd-da08-4ac1-87c9-b426a92de748",
   "metadata": {},
   "source": [
    "Footnotes\n",
    "\n",
    "[1] This section is based on [10], [14], and [16].\n",
    "\n",
    "[2] https://research.ibm.com/blog/factor-15-shors-algorithm\n",
    "\n",
    "[3] https://en.wikipedia.org/wiki/Integer_factorization_records#Records_for_efforts_by_quantum_computers"
   ]
  }
 ],
 "metadata": {
  "kernelspec": {
   "display_name": "Python 3 [Default]",
   "language": "python",
   "name": "python3"
  },
  "language_info": {
   "codemirror_mode": {
    "name": "ipython",
    "version": 3
   },
   "file_extension": ".py",
   "mimetype": "text/x-python",
   "name": "python",
   "nbconvert_exporter": "python",
   "pygments_lexer": "ipython3",
   "version": "3.11.9"
  }
 },
 "nbformat": 4,
 "nbformat_minor": 5
}
