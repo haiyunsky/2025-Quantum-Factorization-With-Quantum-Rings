{
 "cells": [
  {
   "cell_type": "markdown",
   "id": "255d7590-bf87-47d8-b0c6-ae67aef1403c",
   "metadata": {},
   "source": [
    "See how to use Shor's algorithm to factor 15 here:    <b><a href=\"https://portal.quantumrings.com/doc/Shors.html\">Shor15</a></b>"
   ]
  },
  {
   "cell_type": "markdown",
   "id": "546dce63-062e-49d0-922a-ab233b397a70",
   "metadata": {},
   "source": [
    "<i><b>Source code to factorize 15</b></i>"
   ]
  },
  {
   "cell_type": "markdown",
   "id": "85955e61-324f-4412-9bac-e6dd69699824",
   "metadata": {},
   "source": [
    "Note: Be sure to use your API token and your account name."
   ]
  },
  {
   "cell_type": "markdown",
   "id": "ef5152de-a79d-4a8e-9870-77a2d13e265e",
   "metadata": {},
   "source": [
    "Step 1. Import the required modules and obtain the backend"
   ]
  },
  {
   "cell_type": "code",
   "execution_count": 1,
   "id": "7d8feb85-e1a7-4d7d-aef7-3d4b95efe78a",
   "metadata": {},
   "outputs": [],
   "source": [
    "#!pip install qiskit[visualization]"
   ]
  },
  {
   "cell_type": "code",
   "execution_count": 2,
   "id": "23d7770b-4425-4000-86b6-b50d308672d7",
   "metadata": {},
   "outputs": [
    {
     "name": "stdout",
     "output_type": "stream",
     "text": [
      "1.2.0\n"
     ]
    }
   ],
   "source": [
    "import qiskit\n",
    "print (qiskit.__version__)"
   ]
  },
  {
   "cell_type": "code",
   "execution_count": 3,
   "id": "0679c3f9-fc03-4885-9a69-55bf3df3f1ca",
   "metadata": {},
   "outputs": [],
   "source": [
    "#!pip install QuantumRingsLib"
   ]
  },
  {
   "cell_type": "code",
   "execution_count": 4,
   "id": "8d69fdb2-d3c4-4897-88b6-306f4d97a001",
   "metadata": {},
   "outputs": [
    {
     "name": "stdout",
     "output_type": "stream",
     "text": [
      "Python 3.12.4\n"
     ]
    }
   ],
   "source": [
    "!python --version"
   ]
  },
  {
   "cell_type": "code",
   "execution_count": 5,
   "id": "fa9a5d46-92a7-44c4-97b7-17fdaa7cbff6",
   "metadata": {},
   "outputs": [],
   "source": [
    "#!pip install quantumrings-toolkit-qiskit"
   ]
  },
  {
   "cell_type": "code",
   "execution_count": 6,
   "id": "0debff73-6f25-422b-bf94-e13b025fcb59",
   "metadata": {},
   "outputs": [],
   "source": [
    "#!pip install qiskit-aer"
   ]
  },
  {
   "cell_type": "code",
   "execution_count": 7,
   "id": "3e9a2e90-f15c-4e71-ba3d-b9e3a74131b7",
   "metadata": {},
   "outputs": [],
   "source": [
    "from qiskit import QuantumCircuit, QuantumRegister, ClassicalRegister\n",
    "from qiskit.circuit.library import QFT\n",
    "\n",
    "from qiskit_aer.primitives import Sampler\n",
    "from qiskit.visualization import plot_histogram"
   ]
  },
  {
   "cell_type": "code",
   "execution_count": 8,
   "id": "458fb060-65a8-4803-8c58-195177309807",
   "metadata": {},
   "outputs": [],
   "source": [
    "def a2jmodN(a, j, N):\n",
    "    \"\"\"Compute a^{2^j} (mod N) by repeated squaring\"\"\"\n",
    "    for _ in range(j):\n",
    "        a = np.mod(a**2, N)\n",
    "    return a\n",
    "\n",
    "def qft_dagger(n):\n",
    "    \"\"\"Creates an n-qubit inverse Quantum Fourier Transform circuit.\"\"\"\n",
    "    qc = QFT(num_qubits=n, do_swaps=False).inverse()\n",
    "    return qc.to_gate(label=\"QFT†\")"
   ]
  },
  {
   "cell_type": "code",
   "execution_count": 9,
   "id": "721a62c5-3ea7-4dc8-b16e-32e2767a37eb",
   "metadata": {},
   "outputs": [],
   "source": [
    "from fractions import Fraction\n",
    "from math import gcd,ceil,log2, pi\n",
    "\n",
    "def c_amod15_2(a,N):\n",
    "    \"\"\"\n",
    "    Controlled multiplication by a mod N using QFT instead of SWAP.\n",
    "    \"\"\"\n",
    "    Q = ceil(log2(N))\n",
    "    U = QuantumCircuit(Q)\n",
    "    for qubit in range(1, Q):\n",
    "        U.swap(qubit, qubit-1)\n",
    "\n",
    "    if a//2 ==1:\n",
    "        for q in range(Q):      \n",
    "            U.x(q)\n",
    "    \n",
    "    U.append(qft_dagger(Q), range(Q))\n",
    "    print(f\"num_qubits:{U.num_qubits}\")\n",
    "\n",
    "    #display(U.draw(\"mpl\"))\n",
    "    U = U.to_gate()\n",
    "    U.name = f\"{a} mod {Q}\"\n",
    "    c_U = U.control()\n",
    "    return c_U\n",
    "                "
   ]
  },
  {
   "cell_type": "code",
   "execution_count": 18,
   "id": "ae099a78-3e79-4a12-b55a-1abff2d88511",
   "metadata": {},
   "outputs": [],
   "source": [
    "def phase_estimation_2(\n",
    "        controlled_operation: QuantumCircuit,\n",
    "        psi_prep: QuantumCircuit,\n",
    "        precision: int\n",
    "    ):\n",
    "    \"\"\"\n",
    "    Carry out phase estimation on a simulator.\n",
    "    Args:\n",
    "        controlled_operation: The operation to perform phase estimation on,\n",
    "                              controlled by one qubit.\n",
    "        psi_prep: Circuit to prepare |ψ>\n",
    "        precision: Number of counting qubits to use\n",
    "    Returns:\n",
    "        float: Best guess for phase of U|ψ>\n",
    "    \"\"\"\n",
    "    control_register = QuantumRegister(precision)\n",
    "    output_register = ClassicalRegister(precision)\n",
    "\n",
    "    target_register = QuantumRegister(psi_prep.num_qubits)\n",
    "    qc = QuantumCircuit(control_register, target_register, output_register)\n",
    "\n",
    "    # Prepare |ψ>\n",
    "    qc.compose(psi_prep,\n",
    "               qubits=target_register,\n",
    "               inplace=True)\n",
    "\n",
    "    # Do phase estimation\n",
    "    theta = 0.7\n",
    "    for index, qubit in enumerate(control_register):\n",
    "        qc.h(qubit)\n",
    "        qc.cp(2 * pi * theta*(index+1), qubit, target_register)\n",
    "    qc.barrier()\n",
    "\n",
    "    qc.compose(\n",
    "        QFT(precision, inverse=True),\n",
    "        qubits=control_register,\n",
    "        inplace=True\n",
    "    )\n",
    "\n",
    "    # Count the operations\n",
    "    gate_counts = qc.size()\n",
    "    print(f\"gate_counts:{gate_counts}\")\n",
    "\n",
    "    qc.measure(control_register, output_register)\n",
    "\n",
    "    measurement = Sampler().run(qc, shots=1).result().quasi_dists[0].popitem()[0]\n",
    "    return measurement / 2**precision"
   ]
  },
  {
   "cell_type": "code",
   "execution_count": 19,
   "id": "78f7f363-f074-4027-8441-158e09aac26e",
   "metadata": {},
   "outputs": [
    {
     "data": {
      "text/plain": [
       "(8, 143, 8)"
      ]
     },
     "execution_count": 19,
     "metadata": {},
     "output_type": "execute_result"
    }
   ],
   "source": [
    "import semiprimes\n",
    "data = semiprimes.semiprimes\n",
    "items = list(data.items())\n",
    "a = items[0][0]\n",
    "N = items[0][1]\n",
    "\n",
    "Q = ceil(log2(N))\n",
    "psi_prep = QuantumCircuit(4)\n",
    "psi_prep.x(0)\n",
    "#display(psi_prep.draw(\"mpl\"))\n",
    "\n",
    "a,N,Q"
   ]
  },
  {
   "cell_type": "code",
   "execution_count": 20,
   "id": "ae6c89ab-b795-4aaa-b87c-6eed8a2cb21a",
   "metadata": {},
   "outputs": [
    {
     "name": "stdout",
     "output_type": "stream",
     "text": [
      "\n",
      "Attempt 1\n",
      "num_qubits:8\n",
      "gate_counts:42\n",
      "r:137\n",
      "Non-trivial factor found: 13\n",
      "Elapsed time: 0.08 seconds\n"
     ]
    },
    {
     "name": "stderr",
     "output_type": "stream",
     "text": [
      "C:\\Users\\user.DESKTOP-JAJ50S0\\AppData\\Local\\Temp\\ipykernel_4052\\3410879387.py:15: DeprecationWarning: Sampler has been deprecated as of Aer 0.15, please use SamplerV2 instead.\n",
      "  phase = phase_estimation_2(\n"
     ]
    }
   ],
   "source": [
    "from fractions import Fraction\n",
    "from math import gcd,ceil,log2,pi\n",
    "import time\n",
    "start_time = time.time()\n",
    "\n",
    "#a = 8\n",
    "#N = 15\n",
    "\n",
    "FACTOR_FOUND = False\n",
    "ATTEMPT = 0\n",
    "while not FACTOR_FOUND:\n",
    "    ATTEMPT += 1\n",
    "    print(f\"\\nAttempt {ATTEMPT}\")\n",
    "\n",
    "    phase = phase_estimation_2(\n",
    "        c_amod15_2(a,N),\n",
    "        psi_prep,\n",
    "        precision=Q\n",
    "    )\n",
    "    frac = Fraction(phase).limit_denominator(N)\n",
    "    r = frac.denominator\n",
    "    print(f\"r:{r}\")\n",
    "    if phase != 0:\n",
    "        # Guess for a factor is gcd(x^{r/2} - 1 , 15)\n",
    "        guess = gcd(a ** (r // 2) - 1, N)\n",
    "        if guess not in [1, N] and (N % guess) == 0:\n",
    "            # Guess is a factor!\n",
    "            print(f\"Non-trivial factor found: {guess}\")\n",
    "            FACTOR_FOUND = True\n",
    "\n",
    "\n",
    "end_time = time.time()  # End time\n",
    "elapsed_time = end_time - start_time  # Calculate elapsed time\n",
    "\n",
    "print(f\"Elapsed time: {elapsed_time:.2f} seconds\")"
   ]
  },
  {
   "cell_type": "code",
   "execution_count": 14,
   "id": "dc2c6886-cc0f-4c7c-b04d-ac898c8ce1b3",
   "metadata": {},
   "outputs": [],
   "source": [
    "#clean up\n",
    "#del U, Q\n",
    "#del result, phase\n",
    "#del psi_prep"
   ]
  },
  {
   "cell_type": "markdown",
   "id": "d69fcca9-6545-4f8a-9758-0865e240a57e",
   "metadata": {},
   "source": [
    "A plot of the execution results is shown above. Compare this with the calculated values."
   ]
  },
  {
   "cell_type": "markdown",
   "id": "f4545dfd-da08-4ac1-87c9-b426a92de748",
   "metadata": {},
   "source": [
    "Footnotes\n",
    "\n",
    "[1] This section is based on [10], [14], and [16].\n",
    "\n",
    "[2] https://research.ibm.com/blog/factor-15-shors-algorithm\n",
    "\n",
    "[3] https://en.wikipedia.org/wiki/Integer_factorization_records#Records_for_efforts_by_quantum_computers"
   ]
  }
 ],
 "metadata": {
  "kernelspec": {
   "display_name": "Python 3 (ipykernel)",
   "language": "python",
   "name": "python3"
  },
  "language_info": {
   "codemirror_mode": {
    "name": "ipython",
    "version": 3
   },
   "file_extension": ".py",
   "mimetype": "text/x-python",
   "name": "python",
   "nbconvert_exporter": "python",
   "pygments_lexer": "ipython3",
   "version": "3.12.4"
  }
 },
 "nbformat": 4,
 "nbformat_minor": 5
}
