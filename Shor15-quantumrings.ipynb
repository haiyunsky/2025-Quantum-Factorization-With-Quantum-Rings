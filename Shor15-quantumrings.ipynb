{
 "cells": [
  {
   "cell_type": "code",
   "execution_count": 2,
   "id": "077e2d9f-1996-4036-9b7a-1ba4ca5b3a43",
   "metadata": {},
   "outputs": [],
   "source": [
    "#!pip install QuantumRingsLib==0.9.11 matplotlib==3.10.0"
   ]
  },
  {
   "cell_type": "code",
   "execution_count": 3,
   "id": "bc461a00-9c98-4ea1-8141-f6e05d09d740",
   "metadata": {},
   "outputs": [
    {
     "data": {
      "text/plain": [
       "{'name': 'g.scorpiosky@gmail.com',\n",
       " 'token': 'rings-128.TdVKnV6k5pEiSIyMIRYG05gLXKmUOJkq',\n",
       " 'max_qubits': '128'}"
      ]
     },
     "execution_count": 3,
     "metadata": {},
     "output_type": "execute_result"
    }
   ],
   "source": [
    "import QuantumRingsLib\n",
    "from QuantumRingsLib import QuantumRegister, AncillaRegister, ClassicalRegister, QuantumCircuit\n",
    "from QuantumRingsLib import QuantumRingsProvider\n",
    "from QuantumRingsLib import job_monitor\n",
    "from QuantumRingsLib import JobStatus\n",
    "from matplotlib import pyplot as plt\n",
    "import numpy as np\n",
    "import math\n",
    "\n",
    "provider = QuantumRingsProvider(\n",
    "    token='rings-128.TdVKnV6k5pEiSIyMIRYG05gLXKmUOJkq',\n",
    "    name='g.scorpiosky@gmail.com'\n",
    ")\n",
    "backend = provider.get_backend(\"scarlet_quantum_rings\")\n",
    "\n",
    "shots = 1024\n",
    "\n",
    "provider.active_account()"
   ]
  },
  {
   "cell_type": "code",
   "execution_count": 4,
   "id": "f12938c2-f58b-482b-b762-772a34754137",
   "metadata": {},
   "outputs": [
    {
     "name": "stdout",
     "output_type": "stream",
     "text": [
      "Collecting qiskit[visualization]\n",
      "  Using cached qiskit-1.3.2-cp39-abi3-manylinux_2_17_x86_64.manylinux2014_x86_64.whl.metadata (12 kB)\n",
      "Collecting rustworkx>=0.15.0 (from qiskit[visualization])\n",
      "  Using cached rustworkx-0.16.0-cp39-abi3-manylinux_2_17_x86_64.manylinux2014_x86_64.whl.metadata (10 kB)\n",
      "Requirement already satisfied: numpy<3,>=1.17 in /opt/conda/lib/python3.11/site-packages (from qiskit[visualization]) (2.2.2)\n",
      "Collecting scipy>=1.5 (from qiskit[visualization])\n",
      "  Using cached scipy-1.15.1-cp311-cp311-manylinux_2_17_x86_64.manylinux2014_x86_64.whl.metadata (61 kB)\n",
      "Collecting sympy>=1.3 (from qiskit[visualization])\n",
      "  Using cached sympy-1.13.3-py3-none-any.whl.metadata (12 kB)\n",
      "Collecting dill>=0.3 (from qiskit[visualization])\n",
      "  Using cached dill-0.3.9-py3-none-any.whl.metadata (10 kB)\n",
      "Requirement already satisfied: python-dateutil>=2.8.0 in /opt/conda/lib/python3.11/site-packages (from qiskit[visualization]) (2.9.0)\n",
      "Collecting stevedore>=3.0.0 (from qiskit[visualization])\n",
      "  Using cached stevedore-5.4.0-py3-none-any.whl.metadata (2.3 kB)\n",
      "Requirement already satisfied: typing-extensions in /opt/conda/lib/python3.11/site-packages (from qiskit[visualization]) (4.12.2)\n",
      "Collecting symengine<0.14,>=0.11 (from qiskit[visualization])\n",
      "  Using cached symengine-0.13.0-cp311-cp311-manylinux_2_17_x86_64.manylinux2014_x86_64.whl.metadata (1.2 kB)\n",
      "Requirement already satisfied: matplotlib>=3.3 in /opt/conda/lib/python3.11/site-packages (from qiskit[visualization]) (3.10.0)\n",
      "Collecting pydot (from qiskit[visualization])\n",
      "  Using cached pydot-3.0.4-py3-none-any.whl.metadata (10 kB)\n",
      "Requirement already satisfied: Pillow>=4.2.1 in /opt/conda/lib/python3.11/site-packages (from qiskit[visualization]) (11.1.0)\n",
      "Collecting pylatexenc>=1.4 (from qiskit[visualization])\n",
      "  Using cached pylatexenc-2.10-py3-none-any.whl\n",
      "Collecting seaborn>=0.9.0 (from qiskit[visualization])\n",
      "  Using cached seaborn-0.13.2-py3-none-any.whl.metadata (5.4 kB)\n",
      "Requirement already satisfied: contourpy>=1.0.1 in /opt/conda/lib/python3.11/site-packages (from matplotlib>=3.3->qiskit[visualization]) (1.3.1)\n",
      "Requirement already satisfied: cycler>=0.10 in /opt/conda/lib/python3.11/site-packages (from matplotlib>=3.3->qiskit[visualization]) (0.12.1)\n",
      "Requirement already satisfied: fonttools>=4.22.0 in /opt/conda/lib/python3.11/site-packages (from matplotlib>=3.3->qiskit[visualization]) (4.55.8)\n",
      "Requirement already satisfied: kiwisolver>=1.3.1 in /opt/conda/lib/python3.11/site-packages (from matplotlib>=3.3->qiskit[visualization]) (1.4.8)\n",
      "Requirement already satisfied: packaging>=20.0 in /opt/conda/lib/python3.11/site-packages (from matplotlib>=3.3->qiskit[visualization]) (24.0)\n",
      "Requirement already satisfied: pyparsing>=2.3.1 in /opt/conda/lib/python3.11/site-packages (from matplotlib>=3.3->qiskit[visualization]) (3.2.1)\n",
      "Requirement already satisfied: six>=1.5 in /opt/conda/lib/python3.11/site-packages (from python-dateutil>=2.8.0->qiskit[visualization]) (1.16.0)\n",
      "Requirement already satisfied: pandas>=1.2 in /opt/conda/lib/python3.11/site-packages (from seaborn>=0.9.0->qiskit[visualization]) (2.2.3)\n",
      "Collecting pbr>=2.0.0 (from stevedore>=3.0.0->qiskit[visualization])\n",
      "  Downloading pbr-6.1.1-py2.py3-none-any.whl.metadata (3.4 kB)\n",
      "Collecting mpmath<1.4,>=1.1.0 (from sympy>=1.3->qiskit[visualization])\n",
      "  Using cached mpmath-1.3.0-py3-none-any.whl.metadata (8.6 kB)\n",
      "Requirement already satisfied: pytz>=2020.1 in /opt/conda/lib/python3.11/site-packages (from pandas>=1.2->seaborn>=0.9.0->qiskit[visualization]) (2024.1)\n",
      "Requirement already satisfied: tzdata>=2022.7 in /opt/conda/lib/python3.11/site-packages (from pandas>=1.2->seaborn>=0.9.0->qiskit[visualization]) (2025.1)\n",
      "Requirement already satisfied: setuptools in /opt/conda/lib/python3.11/site-packages (from pbr>=2.0.0->stevedore>=3.0.0->qiskit[visualization]) (69.5.1)\n",
      "Using cached dill-0.3.9-py3-none-any.whl (119 kB)\n",
      "Using cached rustworkx-0.16.0-cp39-abi3-manylinux_2_17_x86_64.manylinux2014_x86_64.whl (2.1 MB)\n",
      "Using cached scipy-1.15.1-cp311-cp311-manylinux_2_17_x86_64.manylinux2014_x86_64.whl (40.6 MB)\n",
      "Using cached seaborn-0.13.2-py3-none-any.whl (294 kB)\n",
      "Using cached stevedore-5.4.0-py3-none-any.whl (49 kB)\n",
      "Using cached symengine-0.13.0-cp311-cp311-manylinux_2_17_x86_64.manylinux2014_x86_64.whl (49.7 MB)\n",
      "Using cached sympy-1.13.3-py3-none-any.whl (6.2 MB)\n",
      "Using cached pydot-3.0.4-py3-none-any.whl (35 kB)\n",
      "Using cached qiskit-1.3.2-cp39-abi3-manylinux_2_17_x86_64.manylinux2014_x86_64.whl (6.8 MB)\n",
      "Using cached mpmath-1.3.0-py3-none-any.whl (536 kB)\n",
      "Downloading pbr-6.1.1-py2.py3-none-any.whl (108 kB)\n",
      "Installing collected packages: pylatexenc, mpmath, sympy, symengine, scipy, rustworkx, pydot, pbr, dill, stevedore, seaborn, qiskit\n",
      "Successfully installed dill-0.3.9 mpmath-1.3.0 pbr-6.1.1 pydot-3.0.4 pylatexenc-2.10 qiskit-1.3.2 rustworkx-0.16.0 scipy-1.15.1 seaborn-0.13.2 stevedore-5.4.0 symengine-0.13.0 sympy-1.13.3\n"
     ]
    }
   ],
   "source": [
    "!pip install qiskit[visualization]"
   ]
  },
  {
   "cell_type": "code",
   "execution_count": 5,
   "id": "d2f27171-3227-44d7-b9a0-392223ccbd20",
   "metadata": {},
   "outputs": [
    {
     "name": "stdout",
     "output_type": "stream",
     "text": [
      "Collecting quantumrings-toolkit-qiskit\n",
      "  Using cached quantumrings_toolkit_qiskit-0.1.9-py3-none-any.whl.metadata (15 kB)\n",
      "Requirement already satisfied: numpy in /opt/conda/lib/python3.11/site-packages (from quantumrings-toolkit-qiskit) (2.2.2)\n",
      "Requirement already satisfied: qiskit in /opt/conda/lib/python3.11/site-packages (from quantumrings-toolkit-qiskit) (1.3.2)\n",
      "Requirement already satisfied: QuantumRingsLib in /opt/conda/lib/python3.11/site-packages (from quantumrings-toolkit-qiskit) (0.9.11)\n",
      "Requirement already satisfied: rustworkx>=0.15.0 in /opt/conda/lib/python3.11/site-packages (from qiskit->quantumrings-toolkit-qiskit) (0.16.0)\n",
      "Requirement already satisfied: scipy>=1.5 in /opt/conda/lib/python3.11/site-packages (from qiskit->quantumrings-toolkit-qiskit) (1.15.1)\n",
      "Requirement already satisfied: sympy>=1.3 in /opt/conda/lib/python3.11/site-packages (from qiskit->quantumrings-toolkit-qiskit) (1.13.3)\n",
      "Requirement already satisfied: dill>=0.3 in /opt/conda/lib/python3.11/site-packages (from qiskit->quantumrings-toolkit-qiskit) (0.3.9)\n",
      "Requirement already satisfied: python-dateutil>=2.8.0 in /opt/conda/lib/python3.11/site-packages (from qiskit->quantumrings-toolkit-qiskit) (2.9.0)\n",
      "Requirement already satisfied: stevedore>=3.0.0 in /opt/conda/lib/python3.11/site-packages (from qiskit->quantumrings-toolkit-qiskit) (5.4.0)\n",
      "Requirement already satisfied: typing-extensions in /opt/conda/lib/python3.11/site-packages (from qiskit->quantumrings-toolkit-qiskit) (4.12.2)\n",
      "Requirement already satisfied: symengine<0.14,>=0.11 in /opt/conda/lib/python3.11/site-packages (from qiskit->quantumrings-toolkit-qiskit) (0.13.0)\n",
      "Requirement already satisfied: six>=1.5 in /opt/conda/lib/python3.11/site-packages (from python-dateutil>=2.8.0->qiskit->quantumrings-toolkit-qiskit) (1.16.0)\n",
      "Requirement already satisfied: pbr>=2.0.0 in /opt/conda/lib/python3.11/site-packages (from stevedore>=3.0.0->qiskit->quantumrings-toolkit-qiskit) (6.1.1)\n",
      "Requirement already satisfied: mpmath<1.4,>=1.1.0 in /opt/conda/lib/python3.11/site-packages (from sympy>=1.3->qiskit->quantumrings-toolkit-qiskit) (1.3.0)\n",
      "Requirement already satisfied: setuptools in /opt/conda/lib/python3.11/site-packages (from pbr>=2.0.0->stevedore>=3.0.0->qiskit->quantumrings-toolkit-qiskit) (69.5.1)\n",
      "Using cached quantumrings_toolkit_qiskit-0.1.9-py3-none-any.whl (52 kB)\n",
      "Installing collected packages: quantumrings-toolkit-qiskit\n",
      "Successfully installed quantumrings-toolkit-qiskit-0.1.9\n"
     ]
    }
   ],
   "source": [
    "!pip install quantumrings-toolkit-qiskit"
   ]
  },
  {
   "cell_type": "code",
   "execution_count": 6,
   "id": "4bb207a8-23df-4d0c-9deb-9b449e464443",
   "metadata": {},
   "outputs": [
    {
     "name": "stdout",
     "output_type": "stream",
     "text": [
      "Collecting qiskit-aer\n",
      "  Downloading qiskit_aer-0.16.1-cp311-cp311-manylinux_2_17_x86_64.manylinux2014_x86_64.whl.metadata (8.2 kB)\n",
      "Requirement already satisfied: qiskit>=1.1.0 in /opt/conda/lib/python3.11/site-packages (from qiskit-aer) (1.3.2)\n",
      "Requirement already satisfied: numpy>=1.16.3 in /opt/conda/lib/python3.11/site-packages (from qiskit-aer) (2.2.2)\n",
      "Requirement already satisfied: scipy>=1.0 in /opt/conda/lib/python3.11/site-packages (from qiskit-aer) (1.15.1)\n",
      "Requirement already satisfied: psutil>=5 in /opt/conda/lib/python3.11/site-packages (from qiskit-aer) (5.9.8)\n",
      "Requirement already satisfied: rustworkx>=0.15.0 in /opt/conda/lib/python3.11/site-packages (from qiskit>=1.1.0->qiskit-aer) (0.16.0)\n",
      "Requirement already satisfied: sympy>=1.3 in /opt/conda/lib/python3.11/site-packages (from qiskit>=1.1.0->qiskit-aer) (1.13.3)\n",
      "Requirement already satisfied: dill>=0.3 in /opt/conda/lib/python3.11/site-packages (from qiskit>=1.1.0->qiskit-aer) (0.3.9)\n",
      "Requirement already satisfied: python-dateutil>=2.8.0 in /opt/conda/lib/python3.11/site-packages (from qiskit>=1.1.0->qiskit-aer) (2.9.0)\n",
      "Requirement already satisfied: stevedore>=3.0.0 in /opt/conda/lib/python3.11/site-packages (from qiskit>=1.1.0->qiskit-aer) (5.4.0)\n",
      "Requirement already satisfied: typing-extensions in /opt/conda/lib/python3.11/site-packages (from qiskit>=1.1.0->qiskit-aer) (4.12.2)\n",
      "Requirement already satisfied: symengine<0.14,>=0.11 in /opt/conda/lib/python3.11/site-packages (from qiskit>=1.1.0->qiskit-aer) (0.13.0)\n",
      "Requirement already satisfied: six>=1.5 in /opt/conda/lib/python3.11/site-packages (from python-dateutil>=2.8.0->qiskit>=1.1.0->qiskit-aer) (1.16.0)\n",
      "Requirement already satisfied: pbr>=2.0.0 in /opt/conda/lib/python3.11/site-packages (from stevedore>=3.0.0->qiskit>=1.1.0->qiskit-aer) (6.1.1)\n",
      "Requirement already satisfied: mpmath<1.4,>=1.1.0 in /opt/conda/lib/python3.11/site-packages (from sympy>=1.3->qiskit>=1.1.0->qiskit-aer) (1.3.0)\n",
      "Requirement already satisfied: setuptools in /opt/conda/lib/python3.11/site-packages (from pbr>=2.0.0->stevedore>=3.0.0->qiskit>=1.1.0->qiskit-aer) (69.5.1)\n",
      "Downloading qiskit_aer-0.16.1-cp311-cp311-manylinux_2_17_x86_64.manylinux2014_x86_64.whl (12.4 MB)\n",
      "\u001b[2K   \u001b[90m━━━━━━━━━━━━━━━━━━━━━━━━━━━━━━━━━━━━━━━━\u001b[0m \u001b[32m12.4/12.4 MB\u001b[0m \u001b[31m72.9 MB/s\u001b[0m eta \u001b[36m0:00:00\u001b[0m:00:01\u001b[0m\n",
      "\u001b[?25hInstalling collected packages: qiskit-aer\n",
      "Successfully installed qiskit-aer-0.16.1\n"
     ]
    }
   ],
   "source": [
    "!pip install qiskit-aer"
   ]
  },
  {
   "cell_type": "code",
   "execution_count": 7,
   "id": "55d74421-e054-460a-9a76-6f2530e0c8dd",
   "metadata": {},
   "outputs": [],
   "source": [
    "from qiskit import QuantumCircuit, QuantumRegister, ClassicalRegister\n",
    "from qiskit.circuit.library import QFT\n",
    "\n",
    "from qiskit_aer.primitives import Sampler\n",
    "from qiskit.visualization import plot_histogram"
   ]
  },
  {
   "cell_type": "code",
   "execution_count": 8,
   "id": "ccc110de-8ea3-486c-9a37-7c20ef8af261",
   "metadata": {},
   "outputs": [],
   "source": [
    "def a2jmodN(a, j, N):\n",
    "    \"\"\"Compute a^{2^j} (mod N) by repeated squaring\"\"\"\n",
    "    for _ in range(j):\n",
    "        a = np.mod(a**2, N)\n",
    "    return a\n",
    "\n",
    "def qft_dagger(n):\n",
    "    \"\"\"Creates an n-qubit inverse Quantum Fourier Transform circuit.\"\"\"\n",
    "    qc = QFT(num_qubits=n, do_swaps=False).inverse()\n",
    "    return qc.to_gate(label=\"QFT†\")"
   ]
  },
  {
   "cell_type": "code",
   "execution_count": 9,
   "id": "fa28a877-15b4-4fcc-9661-0cc7a375278e",
   "metadata": {},
   "outputs": [],
   "source": [
    "from fractions import Fraction\n",
    "from math import gcd,ceil,log2, pi\n",
    "\n",
    "def c_amod15(a,N):\n",
    "    \"\"\"\n",
    "    Controlled multiplication by a mod N using QFT instead of SWAP.\n",
    "    \"\"\"\n",
    "    Q = ceil(log2(N))\n",
    "    U = QuantumCircuit(Q)\n",
    "    for i in range(Q // 2):\n",
    "        U.swap(i, Q-i-1)\n",
    "\n",
    "    if a//2 ==1:\n",
    "        for q in range(Q):      \n",
    "            U.x(q)\n",
    "    \n",
    "    U.append(qft_dagger(Q), range(Q))\n",
    "    print(f\"num_qubits:{U.num_qubits}\")\n",
    "\n",
    "    #display(U.draw(\"mpl\"))\n",
    "    U = U.to_gate()\n",
    "    U.name = f\"{a} mod {Q}\"\n",
    "    c_U = U.control()\n",
    "    return c_U"
   ]
  },
  {
   "cell_type": "code",
   "execution_count": 12,
   "id": "d33c3f81-60d5-4628-b3c6-446a302d5c34",
   "metadata": {},
   "outputs": [],
   "source": [
    "def phase_estimation(\n",
    "        controlled_operation: QuantumCircuit,\n",
    "        psi_prep: QuantumCircuit,\n",
    "        precision: int\n",
    "    ):\n",
    "    \"\"\"\n",
    "    Carry out phase estimation on a simulator.\n",
    "    Args:\n",
    "        controlled_operation: The operation to perform phase estimation on,\n",
    "                              controlled by one qubit.\n",
    "        psi_prep: Circuit to prepare |ψ>\n",
    "        precision: Number of counting qubits to use\n",
    "    Returns:\n",
    "        float: Best guess for phase of U|ψ>\n",
    "    \"\"\"\n",
    "    control_register = QuantumRegister(precision)\n",
    "    output_register = ClassicalRegister(precision)\n",
    "\n",
    "    target_register = QuantumRegister(psi_prep.num_qubits)\n",
    "    qc = QuantumCircuit(control_register, target_register, output_register)\n",
    "\n",
    "    # Prepare |ψ>\n",
    "    qc.compose(psi_prep,\n",
    "               qubits=target_register,\n",
    "               inplace=True)\n",
    "\n",
    "    # Do phase estimation\n",
    "    theta = 0.7\n",
    "    for index, qubit in enumerate(control_register):\n",
    "        qc.h(qubit)\n",
    "        qc.cp(2 * pi * theta*(index+1), qubit, target_register)\n",
    "    qc.barrier()\n",
    "\n",
    "    qc.compose(\n",
    "        QFT(precision, inverse=True),\n",
    "        qubits=control_register,\n",
    "        inplace=True\n",
    "    )\n",
    "\n",
    "    # Count the operations\n",
    "    gate_counts = qc.size()\n",
    "    print(f\"gate_counts:{gate_counts}\")\n",
    "\n",
    "    qc.measure(control_register, output_register)\n",
    "\n",
    "    measurement = Sampler().run(qc, shots=1).result().quasi_dists[0].popitem()[0]\n",
    "    return measurement / 2**precision"
   ]
  },
  {
   "cell_type": "code",
   "execution_count": 11,
   "id": "10a742c6-3158-4972-8841-261228315383",
   "metadata": {},
   "outputs": [
    {
     "data": {
      "text/plain": [
       "(8, 143, 8)"
      ]
     },
     "execution_count": 11,
     "metadata": {},
     "output_type": "execute_result"
    }
   ],
   "source": [
    "import semiprimes\n",
    "data = semiprimes.semiprimes\n",
    "items = list(data.items())\n",
    "a = items[0][0]\n",
    "N = items[0][1]\n",
    "\n",
    "Q = ceil(log2(N))\n",
    "psi_prep = QuantumCircuit(Q)\n",
    "psi_prep.x(0)\n",
    "#display(psi_prep.draw(\"mpl\"))\n",
    "\n",
    "a,N,Q"
   ]
  },
  {
   "cell_type": "code",
   "execution_count": 13,
   "id": "6c078249-ed08-4f03-8fbf-6321c6ca0088",
   "metadata": {},
   "outputs": [
    {
     "name": "stdout",
     "output_type": "stream",
     "text": [
      "\n",
      "Attempt 1\n",
      "num_qubits:8\n",
      "gate_counts:74\n",
      "Non-trivial factor found: 11\n",
      "Elapsed time: 0.18 seconds\n"
     ]
    },
    {
     "name": "stderr",
     "output_type": "stream",
     "text": [
      "/tmp/ipykernel_218/3185486489.py:16: DeprecationWarning: Sampler has been deprecated as of Aer 0.15, please use SamplerV2 instead.\n",
      "  phase = phase_estimation(\n"
     ]
    }
   ],
   "source": [
    "from fractions import Fraction\n",
    "from math import gcd,ceil,log2,pi\n",
    "\n",
    "#a = 8\n",
    "#N = 15\n",
    "\n",
    "import time\n",
    "start_time = time.time()\n",
    "\n",
    "FACTOR_FOUND = False\n",
    "ATTEMPT = 0\n",
    "while not FACTOR_FOUND:\n",
    "    ATTEMPT += 1\n",
    "    print(f\"\\nAttempt {ATTEMPT}\")\n",
    "\n",
    "    phase = phase_estimation(\n",
    "        c_amod15(a,N),\n",
    "        psi_prep,\n",
    "        precision=Q\n",
    "    )\n",
    "    frac = Fraction(phase).limit_denominator(N)\n",
    "    r = frac.denominator\n",
    "    if phase != 0:\n",
    "        # Guess for a factor is gcd(x^{r/2} - 1 , 15)\n",
    "        guess = gcd(a ** (r // 2) - 1, N)\n",
    "        if guess not in [1, N] and (N % guess) == 0:\n",
    "            # Guess is a factor!\n",
    "            print(f\"Non-trivial factor found: {guess}\")\n",
    "            FACTOR_FOUND = True\n",
    "\n",
    "\n",
    "end_time = time.time()  # End time\n",
    "elapsed_time = end_time - start_time  # Calculate elapsed time\n",
    "\n",
    "print(f\"Elapsed time: {elapsed_time:.2f} seconds\")"
   ]
  },
  {
   "cell_type": "code",
   "execution_count": null,
   "id": "395469b4-eafe-4036-ad96-78ca58624573",
   "metadata": {},
   "outputs": [],
   "source": []
  }
 ],
 "metadata": {
  "kernelspec": {
   "display_name": "Python 3 [Default]",
   "language": "python",
   "name": "python3"
  },
  "language_info": {
   "codemirror_mode": {
    "name": "ipython",
    "version": 3
   },
   "file_extension": ".py",
   "mimetype": "text/x-python",
   "name": "python",
   "nbconvert_exporter": "python",
   "pygments_lexer": "ipython3",
   "version": "3.11.9"
  }
 },
 "nbformat": 4,
 "nbformat_minor": 5
}
