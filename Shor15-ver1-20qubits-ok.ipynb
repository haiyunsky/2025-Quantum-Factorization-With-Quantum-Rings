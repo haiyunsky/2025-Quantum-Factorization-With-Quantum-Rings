{
 "cells": [
  {
   "cell_type": "markdown",
   "id": "255d7590-bf87-47d8-b0c6-ae67aef1403c",
   "metadata": {},
   "source": [
    "See how to use Shor's algorithm to factor 15 here:    <b><a href=\"https://portal.quantumrings.com/doc/Shors.html\">Shor15</a></b>"
   ]
  },
  {
   "cell_type": "markdown",
   "id": "546dce63-062e-49d0-922a-ab233b397a70",
   "metadata": {},
   "source": [
    "<i><b>Source code to factorize 15</b></i>"
   ]
  },
  {
   "cell_type": "markdown",
   "id": "85955e61-324f-4412-9bac-e6dd69699824",
   "metadata": {},
   "source": [
    "Note: Be sure to use your API token and your account name."
   ]
  },
  {
   "cell_type": "markdown",
   "id": "ef5152de-a79d-4a8e-9870-77a2d13e265e",
   "metadata": {},
   "source": [
    "Step 1. Import the required modules and obtain the backend"
   ]
  },
  {
   "cell_type": "code",
   "execution_count": 1,
   "id": "7d8feb85-e1a7-4d7d-aef7-3d4b95efe78a",
   "metadata": {},
   "outputs": [],
   "source": [
    "#!pip install qiskit[visualization]"
   ]
  },
  {
   "cell_type": "code",
   "execution_count": 2,
   "id": "23d7770b-4425-4000-86b6-b50d308672d7",
   "metadata": {},
   "outputs": [
    {
     "name": "stdout",
     "output_type": "stream",
     "text": [
      "1.3.0\n"
     ]
    }
   ],
   "source": [
    "import qiskit\n",
    "print (qiskit.__version__)"
   ]
  },
  {
   "cell_type": "code",
   "execution_count": 3,
   "id": "0679c3f9-fc03-4885-9a69-55bf3df3f1ca",
   "metadata": {},
   "outputs": [],
   "source": [
    "#!pip install QuantumRingsLib"
   ]
  },
  {
   "cell_type": "code",
   "execution_count": 4,
   "id": "8d69fdb2-d3c4-4897-88b6-306f4d97a001",
   "metadata": {},
   "outputs": [
    {
     "name": "stdout",
     "output_type": "stream",
     "text": [
      "Python 3.12.4\n"
     ]
    }
   ],
   "source": [
    "!python --version"
   ]
  },
  {
   "cell_type": "code",
   "execution_count": 5,
   "id": "fa9a5d46-92a7-44c4-97b7-17fdaa7cbff6",
   "metadata": {},
   "outputs": [],
   "source": [
    "#!pip install quantumrings-toolkit-qiskit"
   ]
  },
  {
   "cell_type": "code",
   "execution_count": 6,
   "id": "0debff73-6f25-422b-bf94-e13b025fcb59",
   "metadata": {},
   "outputs": [],
   "source": [
    "#!pip install qiskit-aer"
   ]
  },
  {
   "cell_type": "code",
   "execution_count": 7,
   "id": "3e9a2e90-f15c-4e71-ba3d-b9e3a74131b7",
   "metadata": {},
   "outputs": [],
   "source": [
    "from qiskit import QuantumCircuit, QuantumRegister, ClassicalRegister\n",
    "from qiskit.circuit.library import QFT\n",
    "\n",
    "from qiskit_aer.primitives import Sampler\n",
    "from qiskit.visualization import plot_histogram"
   ]
  },
  {
   "cell_type": "code",
   "execution_count": 8,
   "id": "458fb060-65a8-4803-8c58-195177309807",
   "metadata": {},
   "outputs": [],
   "source": [
    "def a2jmodN(a, j, N):\n",
    "    \"\"\"Compute a^{2^j} (mod N) by repeated squaring\"\"\"\n",
    "    for _ in range(j):\n",
    "        a = np.mod(a**2, N)\n",
    "    return a\n",
    "\n",
    "def qft_dagger(n):\n",
    "    \"\"\"Creates an n-qubit inverse Quantum Fourier Transform circuit.\"\"\"\n",
    "    qc = QFT(num_qubits=n, do_swaps=False).inverse()\n",
    "    return qc.to_gate(label=\"QFT†\")"
   ]
  },
  {
   "cell_type": "code",
   "execution_count": 9,
   "id": "721a62c5-3ea7-4dc8-b16e-32e2767a37eb",
   "metadata": {},
   "outputs": [],
   "source": [
    "from fractions import Fraction\n",
    "from math import gcd,ceil,log2, pi\n",
    "\n",
    "def c_amod15_2(a,N):\n",
    "    \"\"\"\n",
    "    Controlled multiplication by a mod N using QFT instead of SWAP.\n",
    "    \"\"\"\n",
    "    Q = ceil(log2(N))\n",
    "    U = QuantumCircuit(Q)\n",
    "    for i in range(Q // 2):\n",
    "        U.swap(i, Q-i-1)\n",
    "\n",
    "    if a//2 ==1:\n",
    "        for q in range(Q):      \n",
    "            U.x(q)\n",
    "    \n",
    "    #U.append(qft_dagger(Q), range(Q))\n",
    "    qft_circuit = QFT(Q).decompose()\n",
    "    qft_circuit.compose(U)\n",
    "    print(f\"num_qubits:{qft_circuit.num_qubits}\")\n",
    "\n",
    "    #display(qft_circuit.draw(\"mpl\"))\n",
    "    qft_circuit = qft_circuit.to_gate()\n",
    "    qft_circuit.name = f\"{a} mod {Q}\"\n",
    "    c_U = qft_circuit.control()\n",
    "    return c_U\n",
    "                "
   ]
  },
  {
   "cell_type": "code",
   "execution_count": 52,
   "id": "ae099a78-3e79-4a12-b55a-1abff2d88511",
   "metadata": {},
   "outputs": [],
   "source": [
    "def phase_estimation_2(\n",
    "        controlled_operation: QuantumCircuit,\n",
    "        psi_prep: QuantumCircuit,\n",
    "        precision: int,\n",
    "        #theta: float,\n",
    "    ):\n",
    "    \"\"\"\n",
    "    Carry out phase estimation on a simulator.\n",
    "    Args:\n",
    "        controlled_operation: The operation to perform phase estimation on,\n",
    "                              controlled by one qubit.\n",
    "        psi_prep: Circuit to prepare |ψ>\n",
    "        precision: Number of counting qubits to use\n",
    "    Returns:\n",
    "        float: Best guess for phase of U|ψ>\n",
    "    \"\"\"\n",
    "    control_register = QuantumRegister(precision)\n",
    "    output_register = ClassicalRegister(precision)\n",
    "\n",
    "    target_register = QuantumRegister(psi_prep.num_qubits)\n",
    "    qc = QuantumCircuit(control_register, target_register, output_register)\n",
    "\n",
    "    # Prepare |ψ>\n",
    "    qc.compose(psi_prep,\n",
    "               qubits=target_register,\n",
    "               inplace=True)\n",
    "\n",
    "    # Do phase estimation\n",
    "    # theta = 0.7 # for 8 bits\n",
    "    # theta = 0.25 # for 10 bits\n",
    "    # theta = 0.1 # for 12, 14, 16, 18 bits\n",
    "    # theta = 0.01 # for 18 bits\n",
    "    # theta = 0.025 # for 20 bits\n",
    "    theta = 0.0125 # for 22 bits\n",
    "    \n",
    "    for index, qubit in enumerate(control_register):\n",
    "        qc.h(qubit)\n",
    "        qc.cp(2 * pi * theta*(index+1), qubit, target_register)\n",
    "    qc.barrier()\n",
    "\n",
    "    qc.compose(\n",
    "        QFT(precision, inverse=True),\n",
    "        qubits=control_register,\n",
    "        inplace=True\n",
    "    )\n",
    "\n",
    "    # Count the operations\n",
    "    gate_counts = qc.size()\n",
    "    print(f\"gate_counts:{gate_counts}\")\n",
    "\n",
    "    qc.measure(control_register, output_register)\n",
    "\n",
    "    measurement = Sampler().run(qc, shots=1).result().quasi_dists[0].popitem()[0]\n",
    "    return measurement / 2**precision"
   ]
  },
  {
   "cell_type": "code",
   "execution_count": 53,
   "id": "78f7f363-f074-4027-8441-158e09aac26e",
   "metadata": {},
   "outputs": [
    {
     "data": {
      "text/plain": [
       "(22, 3036893, 22)"
      ]
     },
     "execution_count": 53,
     "metadata": {},
     "output_type": "execute_result"
    }
   ],
   "source": [
    "import semiprimes\n",
    "data = semiprimes.semiprimes\n",
    "items = list(data.items())\n",
    "a = items[7][0]\n",
    "N = items[7][1]\n",
    "\n",
    "Q = ceil(log2(N))\n",
    "psi_prep = QuantumCircuit(4)\n",
    "psi_prep.x(0)\n",
    "#display(psi_prep.draw(\"mpl\"))\n",
    "\n",
    "a,N,Q"
   ]
  },
  {
   "cell_type": "code",
   "execution_count": 48,
   "id": "b64a491b-f54f-4183-9c2f-74d751b05024",
   "metadata": {},
   "outputs": [],
   "source": [
    "#3127/59, \n",
    "#167659/431"
   ]
  },
  {
   "cell_type": "code",
   "execution_count": 54,
   "id": "ae6c89ab-b795-4aaa-b87c-6eed8a2cb21a",
   "metadata": {},
   "outputs": [
    {
     "name": "stdout",
     "output_type": "stream",
     "text": [
      "\n",
      "Attempt 1\n",
      "num_qubits:22\n",
      "gate_counts:112\n"
     ]
    },
    {
     "name": "stderr",
     "output_type": "stream",
     "text": [
      "C:\\Users\\user.DESKTOP-JAJ50S0\\AppData\\Local\\Temp\\ipykernel_15416\\3410879387.py:15: DeprecationWarning: Sampler has been deprecated as of Aer 0.15, please use SamplerV2 instead.\n",
      "  phase = phase_estimation_2(\n"
     ]
    },
    {
     "name": "stdout",
     "output_type": "stream",
     "text": [
      "r:2097152\n",
      "\n",
      "Attempt 2\n",
      "num_qubits:22\n",
      "gate_counts:112\n"
     ]
    },
    {
     "name": "stderr",
     "output_type": "stream",
     "text": [
      "C:\\Users\\user.DESKTOP-JAJ50S0\\AppData\\Local\\Temp\\ipykernel_15416\\3410879387.py:15: DeprecationWarning: Sampler has been deprecated as of Aer 0.15, please use SamplerV2 instead.\n",
      "  phase = phase_estimation_2(\n"
     ]
    },
    {
     "name": "stdout",
     "output_type": "stream",
     "text": [
      "r:8192\n",
      "\n",
      "Attempt 3\n",
      "num_qubits:22\n",
      "gate_counts:112\n"
     ]
    },
    {
     "name": "stderr",
     "output_type": "stream",
     "text": [
      "C:\\Users\\user.DESKTOP-JAJ50S0\\AppData\\Local\\Temp\\ipykernel_15416\\3410879387.py:15: DeprecationWarning: Sampler has been deprecated as of Aer 0.15, please use SamplerV2 instead.\n",
      "  phase = phase_estimation_2(\n"
     ]
    },
    {
     "name": "stdout",
     "output_type": "stream",
     "text": [
      "r:2331930\n",
      "\n",
      "Attempt 4\n",
      "num_qubits:22\n",
      "gate_counts:112\n"
     ]
    },
    {
     "name": "stderr",
     "output_type": "stream",
     "text": [
      "C:\\Users\\user.DESKTOP-JAJ50S0\\AppData\\Local\\Temp\\ipykernel_15416\\3410879387.py:15: DeprecationWarning: Sampler has been deprecated as of Aer 0.15, please use SamplerV2 instead.\n",
      "  phase = phase_estimation_2(\n"
     ]
    },
    {
     "name": "stdout",
     "output_type": "stream",
     "text": [
      "r:2097152\n",
      "\n",
      "Attempt 5\n",
      "num_qubits:22\n",
      "gate_counts:112\n"
     ]
    },
    {
     "name": "stderr",
     "output_type": "stream",
     "text": [
      "C:\\Users\\user.DESKTOP-JAJ50S0\\AppData\\Local\\Temp\\ipykernel_15416\\3410879387.py:15: DeprecationWarning: Sampler has been deprecated as of Aer 0.15, please use SamplerV2 instead.\n",
      "  phase = phase_estimation_2(\n"
     ]
    },
    {
     "name": "stdout",
     "output_type": "stream",
     "text": [
      "r:2516582\n",
      "\n",
      "Attempt 6\n",
      "num_qubits:22\n",
      "gate_counts:112\n"
     ]
    },
    {
     "name": "stderr",
     "output_type": "stream",
     "text": [
      "C:\\Users\\user.DESKTOP-JAJ50S0\\AppData\\Local\\Temp\\ipykernel_15416\\3410879387.py:15: DeprecationWarning: Sampler has been deprecated as of Aer 0.15, please use SamplerV2 instead.\n",
      "  phase = phase_estimation_2(\n"
     ]
    },
    {
     "name": "stdout",
     "output_type": "stream",
     "text": [
      "r:2978564\n",
      "\n",
      "Attempt 7\n",
      "num_qubits:22\n",
      "gate_counts:112\n"
     ]
    },
    {
     "name": "stderr",
     "output_type": "stream",
     "text": [
      "C:\\Users\\user.DESKTOP-JAJ50S0\\AppData\\Local\\Temp\\ipykernel_15416\\3410879387.py:15: DeprecationWarning: Sampler has been deprecated as of Aer 0.15, please use SamplerV2 instead.\n",
      "  phase = phase_estimation_2(\n"
     ]
    },
    {
     "name": "stdout",
     "output_type": "stream",
     "text": [
      "r:524288\n",
      "\n",
      "Attempt 8\n",
      "num_qubits:22\n",
      "gate_counts:112\n"
     ]
    },
    {
     "name": "stderr",
     "output_type": "stream",
     "text": [
      "C:\\Users\\user.DESKTOP-JAJ50S0\\AppData\\Local\\Temp\\ipykernel_15416\\3410879387.py:15: DeprecationWarning: Sampler has been deprecated as of Aer 0.15, please use SamplerV2 instead.\n",
      "  phase = phase_estimation_2(\n"
     ]
    },
    {
     "name": "stdout",
     "output_type": "stream",
     "text": [
      "r:2097152\n",
      "\n",
      "Attempt 9\n",
      "num_qubits:22\n",
      "gate_counts:112\n"
     ]
    },
    {
     "name": "stderr",
     "output_type": "stream",
     "text": [
      "C:\\Users\\user.DESKTOP-JAJ50S0\\AppData\\Local\\Temp\\ipykernel_15416\\3410879387.py:15: DeprecationWarning: Sampler has been deprecated as of Aer 0.15, please use SamplerV2 instead.\n",
      "  phase = phase_estimation_2(\n"
     ]
    },
    {
     "name": "stdout",
     "output_type": "stream",
     "text": [
      "r:3036893\n",
      "\n",
      "Attempt 10\n",
      "num_qubits:22\n",
      "gate_counts:112\n"
     ]
    },
    {
     "name": "stderr",
     "output_type": "stream",
     "text": [
      "C:\\Users\\user.DESKTOP-JAJ50S0\\AppData\\Local\\Temp\\ipykernel_15416\\3410879387.py:15: DeprecationWarning: Sampler has been deprecated as of Aer 0.15, please use SamplerV2 instead.\n",
      "  phase = phase_estimation_2(\n"
     ]
    },
    {
     "name": "stdout",
     "output_type": "stream",
     "text": [
      "r:2097152\n",
      "\n",
      "Attempt 11\n",
      "num_qubits:22\n",
      "gate_counts:112\n"
     ]
    },
    {
     "name": "stderr",
     "output_type": "stream",
     "text": [
      "C:\\Users\\user.DESKTOP-JAJ50S0\\AppData\\Local\\Temp\\ipykernel_15416\\3410879387.py:15: DeprecationWarning: Sampler has been deprecated as of Aer 0.15, please use SamplerV2 instead.\n",
      "  phase = phase_estimation_2(\n"
     ]
    },
    {
     "name": "stdout",
     "output_type": "stream",
     "text": [
      "r:2978564\n",
      "\n",
      "Attempt 12\n",
      "num_qubits:22\n",
      "gate_counts:112\n"
     ]
    },
    {
     "name": "stderr",
     "output_type": "stream",
     "text": [
      "C:\\Users\\user.DESKTOP-JAJ50S0\\AppData\\Local\\Temp\\ipykernel_15416\\3410879387.py:15: DeprecationWarning: Sampler has been deprecated as of Aer 0.15, please use SamplerV2 instead.\n",
      "  phase = phase_estimation_2(\n"
     ]
    },
    {
     "name": "stdout",
     "output_type": "stream",
     "text": [
      "r:131072\n",
      "\n",
      "Attempt 13\n",
      "num_qubits:22\n",
      "gate_counts:112\n"
     ]
    },
    {
     "name": "stderr",
     "output_type": "stream",
     "text": [
      "C:\\Users\\user.DESKTOP-JAJ50S0\\AppData\\Local\\Temp\\ipykernel_15416\\3410879387.py:15: DeprecationWarning: Sampler has been deprecated as of Aer 0.15, please use SamplerV2 instead.\n",
      "  phase = phase_estimation_2(\n"
     ]
    },
    {
     "name": "stdout",
     "output_type": "stream",
     "text": [
      "r:2417278\n",
      "\n",
      "Attempt 14\n",
      "num_qubits:22\n",
      "gate_counts:112\n"
     ]
    },
    {
     "name": "stderr",
     "output_type": "stream",
     "text": [
      "C:\\Users\\user.DESKTOP-JAJ50S0\\AppData\\Local\\Temp\\ipykernel_15416\\3410879387.py:15: DeprecationWarning: Sampler has been deprecated as of Aer 0.15, please use SamplerV2 instead.\n",
      "  phase = phase_estimation_2(\n"
     ]
    },
    {
     "name": "stdout",
     "output_type": "stream",
     "text": [
      "r:2121474\n",
      "\n",
      "Attempt 15\n",
      "num_qubits:22\n",
      "gate_counts:112\n"
     ]
    },
    {
     "name": "stderr",
     "output_type": "stream",
     "text": [
      "C:\\Users\\user.DESKTOP-JAJ50S0\\AppData\\Local\\Temp\\ipykernel_15416\\3410879387.py:15: DeprecationWarning: Sampler has been deprecated as of Aer 0.15, please use SamplerV2 instead.\n",
      "  phase = phase_estimation_2(\n"
     ]
    },
    {
     "name": "stdout",
     "output_type": "stream",
     "text": [
      "r:2097152\n",
      "\n",
      "Attempt 16\n",
      "num_qubits:22\n",
      "gate_counts:112\n"
     ]
    },
    {
     "name": "stderr",
     "output_type": "stream",
     "text": [
      "C:\\Users\\user.DESKTOP-JAJ50S0\\AppData\\Local\\Temp\\ipykernel_15416\\3410879387.py:15: DeprecationWarning: Sampler has been deprecated as of Aer 0.15, please use SamplerV2 instead.\n",
      "  phase = phase_estimation_2(\n"
     ]
    },
    {
     "name": "stdout",
     "output_type": "stream",
     "text": [
      "r:2097152\n",
      "\n",
      "Attempt 17\n",
      "num_qubits:22\n",
      "gate_counts:112\n",
      "r:2537295\n"
     ]
    },
    {
     "name": "stderr",
     "output_type": "stream",
     "text": [
      "C:\\Users\\user.DESKTOP-JAJ50S0\\AppData\\Local\\Temp\\ipykernel_15416\\3410879387.py:15: DeprecationWarning: Sampler has been deprecated as of Aer 0.15, please use SamplerV2 instead.\n",
      "  phase = phase_estimation_2(\n"
     ]
    },
    {
     "name": "stdout",
     "output_type": "stream",
     "text": [
      "\n",
      "Attempt 18\n",
      "num_qubits:22\n",
      "gate_counts:112\n"
     ]
    },
    {
     "name": "stderr",
     "output_type": "stream",
     "text": [
      "C:\\Users\\user.DESKTOP-JAJ50S0\\AppData\\Local\\Temp\\ipykernel_15416\\3410879387.py:15: DeprecationWarning: Sampler has been deprecated as of Aer 0.15, please use SamplerV2 instead.\n",
      "  phase = phase_estimation_2(\n"
     ]
    },
    {
     "name": "stdout",
     "output_type": "stream",
     "text": [
      "r:1100345\n",
      "\n",
      "Attempt 19\n",
      "num_qubits:22\n",
      "gate_counts:112\n"
     ]
    },
    {
     "name": "stderr",
     "output_type": "stream",
     "text": [
      "C:\\Users\\user.DESKTOP-JAJ50S0\\AppData\\Local\\Temp\\ipykernel_15416\\3410879387.py:15: DeprecationWarning: Sampler has been deprecated as of Aer 0.15, please use SamplerV2 instead.\n",
      "  phase = phase_estimation_2(\n"
     ]
    },
    {
     "ename": "KeyboardInterrupt",
     "evalue": "",
     "output_type": "error",
     "traceback": [
      "\u001b[1;31m---------------------------------------------------------------------------\u001b[0m",
      "\u001b[1;31mKeyboardInterrupt\u001b[0m                         Traceback (most recent call last)",
      "Cell \u001b[1;32mIn[54], line 15\u001b[0m\n\u001b[0;32m     12\u001b[0m ATTEMPT \u001b[38;5;241m+\u001b[39m\u001b[38;5;241m=\u001b[39m \u001b[38;5;241m1\u001b[39m\n\u001b[0;32m     13\u001b[0m \u001b[38;5;28mprint\u001b[39m(\u001b[38;5;124mf\u001b[39m\u001b[38;5;124m\"\u001b[39m\u001b[38;5;130;01m\\n\u001b[39;00m\u001b[38;5;124mAttempt \u001b[39m\u001b[38;5;132;01m{\u001b[39;00mATTEMPT\u001b[38;5;132;01m}\u001b[39;00m\u001b[38;5;124m\"\u001b[39m)\n\u001b[1;32m---> 15\u001b[0m phase \u001b[38;5;241m=\u001b[39m phase_estimation_2(\n\u001b[0;32m     16\u001b[0m     c_amod15_2(a,N),\n\u001b[0;32m     17\u001b[0m     psi_prep,\n\u001b[0;32m     18\u001b[0m     precision\u001b[38;5;241m=\u001b[39mQ\n\u001b[0;32m     19\u001b[0m )\n\u001b[0;32m     20\u001b[0m frac \u001b[38;5;241m=\u001b[39m Fraction(phase)\u001b[38;5;241m.\u001b[39mlimit_denominator(N)\n\u001b[0;32m     21\u001b[0m r \u001b[38;5;241m=\u001b[39m frac\u001b[38;5;241m.\u001b[39mdenominator\n",
      "Cell \u001b[1;32mIn[52], line 53\u001b[0m, in \u001b[0;36mphase_estimation_2\u001b[1;34m(controlled_operation, psi_prep, precision)\u001b[0m\n\u001b[0;32m     49\u001b[0m \u001b[38;5;28mprint\u001b[39m(\u001b[38;5;124mf\u001b[39m\u001b[38;5;124m\"\u001b[39m\u001b[38;5;124mgate_counts:\u001b[39m\u001b[38;5;132;01m{\u001b[39;00mgate_counts\u001b[38;5;132;01m}\u001b[39;00m\u001b[38;5;124m\"\u001b[39m)\n\u001b[0;32m     51\u001b[0m qc\u001b[38;5;241m.\u001b[39mmeasure(control_register, output_register)\n\u001b[1;32m---> 53\u001b[0m measurement \u001b[38;5;241m=\u001b[39m Sampler()\u001b[38;5;241m.\u001b[39mrun(qc, shots\u001b[38;5;241m=\u001b[39m\u001b[38;5;241m1\u001b[39m)\u001b[38;5;241m.\u001b[39mresult()\u001b[38;5;241m.\u001b[39mquasi_dists[\u001b[38;5;241m0\u001b[39m]\u001b[38;5;241m.\u001b[39mpopitem()[\u001b[38;5;241m0\u001b[39m]\n\u001b[0;32m     54\u001b[0m \u001b[38;5;28;01mreturn\u001b[39;00m measurement \u001b[38;5;241m/\u001b[39m \u001b[38;5;241m2\u001b[39m\u001b[38;5;241m*\u001b[39m\u001b[38;5;241m*\u001b[39mprecision\n",
      "File \u001b[1;32m~\\anaconda3\\envs\\hhy\\Lib\\site-packages\\qiskit_aer\\primitives\\sampler.py:70\u001b[0m, in \u001b[0;36mSampler.__init__\u001b[1;34m(self, backend_options, transpile_options, run_options, skip_transpilation)\u001b[0m\n\u001b[0;32m     55\u001b[0m \u001b[38;5;28;01mdef\u001b[39;00m\u001b[38;5;250m \u001b[39m\u001b[38;5;21m__init__\u001b[39m(\n\u001b[0;32m     56\u001b[0m     \u001b[38;5;28mself\u001b[39m,\n\u001b[0;32m     57\u001b[0m     \u001b[38;5;241m*\u001b[39m,\n\u001b[1;32m   (...)\u001b[0m\n\u001b[0;32m     61\u001b[0m     skip_transpilation: \u001b[38;5;28mbool\u001b[39m \u001b[38;5;241m=\u001b[39m \u001b[38;5;28;01mFalse\u001b[39;00m,\n\u001b[0;32m     62\u001b[0m ):\n\u001b[0;32m     63\u001b[0m \u001b[38;5;250m    \u001b[39m\u001b[38;5;124;03m\"\"\"\u001b[39;00m\n\u001b[0;32m     64\u001b[0m \u001b[38;5;124;03m    Args:\u001b[39;00m\n\u001b[0;32m     65\u001b[0m \u001b[38;5;124;03m        backend_options: Options passed to AerSimulator.\u001b[39;00m\n\u001b[1;32m   (...)\u001b[0m\n\u001b[0;32m     68\u001b[0m \u001b[38;5;124;03m        skip_transpilation: if True, transpilation is skipped.\u001b[39;00m\n\u001b[0;32m     69\u001b[0m \u001b[38;5;124;03m    \"\"\"\u001b[39;00m\n\u001b[1;32m---> 70\u001b[0m     warn(\n\u001b[0;32m     71\u001b[0m         \u001b[38;5;124m\"\u001b[39m\u001b[38;5;124mSampler has been deprecated as of Aer 0.15, please use SamplerV2 instead.\u001b[39m\u001b[38;5;124m\"\u001b[39m,\n\u001b[0;32m     72\u001b[0m         \u001b[38;5;167;01mDeprecationWarning\u001b[39;00m,\n\u001b[0;32m     73\u001b[0m         stacklevel\u001b[38;5;241m=\u001b[39m\u001b[38;5;241m3\u001b[39m,\n\u001b[0;32m     74\u001b[0m     )\n\u001b[0;32m     75\u001b[0m     \u001b[38;5;28msuper\u001b[39m()\u001b[38;5;241m.\u001b[39m\u001b[38;5;21m__init__\u001b[39m(options\u001b[38;5;241m=\u001b[39mrun_options)\n\u001b[0;32m     76\u001b[0m     \u001b[38;5;66;03m# These two private attributes used to be created by super, but were deprecated in Qiskit\u001b[39;00m\n\u001b[0;32m     77\u001b[0m     \u001b[38;5;66;03m# 0.46. See https://github.com/Qiskit/qiskit/pull/11051\u001b[39;00m\n",
      "File \u001b[1;32m~\\anaconda3\\envs\\hhy\\Lib\\warnings.py:115\u001b[0m, in \u001b[0;36m_showwarnmsg\u001b[1;34m(msg)\u001b[0m\n\u001b[0;32m    112\u001b[0m         sw(msg\u001b[38;5;241m.\u001b[39mmessage, msg\u001b[38;5;241m.\u001b[39mcategory, msg\u001b[38;5;241m.\u001b[39mfilename, msg\u001b[38;5;241m.\u001b[39mlineno,\n\u001b[0;32m    113\u001b[0m            msg\u001b[38;5;241m.\u001b[39mfile, msg\u001b[38;5;241m.\u001b[39mline)\n\u001b[0;32m    114\u001b[0m         \u001b[38;5;28;01mreturn\u001b[39;00m\n\u001b[1;32m--> 115\u001b[0m _showwarnmsg_impl(msg)\n",
      "File \u001b[1;32m~\\anaconda3\\envs\\hhy\\Lib\\warnings.py:30\u001b[0m, in \u001b[0;36m_showwarnmsg_impl\u001b[1;34m(msg)\u001b[0m\n\u001b[0;32m     28\u001b[0m text \u001b[38;5;241m=\u001b[39m _formatwarnmsg(msg)\n\u001b[0;32m     29\u001b[0m \u001b[38;5;28;01mtry\u001b[39;00m:\n\u001b[1;32m---> 30\u001b[0m     file\u001b[38;5;241m.\u001b[39mwrite(text)\n\u001b[0;32m     31\u001b[0m \u001b[38;5;28;01mexcept\u001b[39;00m \u001b[38;5;167;01mOSError\u001b[39;00m:\n\u001b[0;32m     32\u001b[0m     \u001b[38;5;66;03m# the file (probably stderr) is invalid - this warning gets lost.\u001b[39;00m\n\u001b[0;32m     33\u001b[0m     \u001b[38;5;28;01mpass\u001b[39;00m\n",
      "File \u001b[1;32m~\\anaconda3\\envs\\hhy\\Lib\\site-packages\\ipykernel\\iostream.py:662\u001b[0m, in \u001b[0;36mOutStream.write\u001b[1;34m(self, string)\u001b[0m\n\u001b[0;32m    660\u001b[0m     \u001b[38;5;28mself\u001b[39m\u001b[38;5;241m.\u001b[39mpub_thread\u001b[38;5;241m.\u001b[39mschedule(\u001b[38;5;28mself\u001b[39m\u001b[38;5;241m.\u001b[39m_flush)\n\u001b[0;32m    661\u001b[0m \u001b[38;5;28;01melse\u001b[39;00m:\n\u001b[1;32m--> 662\u001b[0m     \u001b[38;5;28mself\u001b[39m\u001b[38;5;241m.\u001b[39m_schedule_flush()\n\u001b[0;32m    664\u001b[0m \u001b[38;5;28;01mreturn\u001b[39;00m \u001b[38;5;28mlen\u001b[39m(string)\n",
      "File \u001b[1;32m~\\anaconda3\\envs\\hhy\\Lib\\site-packages\\ipykernel\\iostream.py:559\u001b[0m, in \u001b[0;36mOutStream._schedule_flush\u001b[1;34m(self)\u001b[0m\n\u001b[0;32m    556\u001b[0m \u001b[38;5;28;01mdef\u001b[39;00m\u001b[38;5;250m \u001b[39m\u001b[38;5;21m_schedule_in_thread\u001b[39m():\n\u001b[0;32m    557\u001b[0m     \u001b[38;5;28mself\u001b[39m\u001b[38;5;241m.\u001b[39m_io_loop\u001b[38;5;241m.\u001b[39mcall_later(\u001b[38;5;28mself\u001b[39m\u001b[38;5;241m.\u001b[39mflush_interval, \u001b[38;5;28mself\u001b[39m\u001b[38;5;241m.\u001b[39m_flush)\n\u001b[1;32m--> 559\u001b[0m \u001b[38;5;28mself\u001b[39m\u001b[38;5;241m.\u001b[39mpub_thread\u001b[38;5;241m.\u001b[39mschedule(_schedule_in_thread)\n",
      "File \u001b[1;32m~\\anaconda3\\envs\\hhy\\Lib\\site-packages\\ipykernel\\iostream.py:266\u001b[0m, in \u001b[0;36mIOPubThread.schedule\u001b[1;34m(self, f)\u001b[0m\n\u001b[0;32m    264\u001b[0m     \u001b[38;5;28mself\u001b[39m\u001b[38;5;241m.\u001b[39m_events\u001b[38;5;241m.\u001b[39mappend(f)\n\u001b[0;32m    265\u001b[0m     \u001b[38;5;66;03m# wake event thread (message content is ignored)\u001b[39;00m\n\u001b[1;32m--> 266\u001b[0m     \u001b[38;5;28mself\u001b[39m\u001b[38;5;241m.\u001b[39m_event_pipe\u001b[38;5;241m.\u001b[39msend(\u001b[38;5;124mb\u001b[39m\u001b[38;5;124m\"\u001b[39m\u001b[38;5;124m\"\u001b[39m)\n\u001b[0;32m    267\u001b[0m \u001b[38;5;28;01melse\u001b[39;00m:\n\u001b[0;32m    268\u001b[0m     f()\n",
      "File \u001b[1;32m~\\anaconda3\\envs\\hhy\\Lib\\site-packages\\zmq\\sugar\\socket.py:696\u001b[0m, in \u001b[0;36mSocket.send\u001b[1;34m(self, data, flags, copy, track, routing_id, group)\u001b[0m\n\u001b[0;32m    689\u001b[0m         data \u001b[38;5;241m=\u001b[39m zmq\u001b[38;5;241m.\u001b[39mFrame(\n\u001b[0;32m    690\u001b[0m             data,\n\u001b[0;32m    691\u001b[0m             track\u001b[38;5;241m=\u001b[39mtrack,\n\u001b[0;32m    692\u001b[0m             copy\u001b[38;5;241m=\u001b[39mcopy \u001b[38;5;129;01mor\u001b[39;00m \u001b[38;5;28;01mNone\u001b[39;00m,\n\u001b[0;32m    693\u001b[0m             copy_threshold\u001b[38;5;241m=\u001b[39m\u001b[38;5;28mself\u001b[39m\u001b[38;5;241m.\u001b[39mcopy_threshold,\n\u001b[0;32m    694\u001b[0m         )\n\u001b[0;32m    695\u001b[0m     data\u001b[38;5;241m.\u001b[39mgroup \u001b[38;5;241m=\u001b[39m group\n\u001b[1;32m--> 696\u001b[0m \u001b[38;5;28;01mreturn\u001b[39;00m \u001b[38;5;28msuper\u001b[39m()\u001b[38;5;241m.\u001b[39msend(data, flags\u001b[38;5;241m=\u001b[39mflags, copy\u001b[38;5;241m=\u001b[39mcopy, track\u001b[38;5;241m=\u001b[39mtrack)\n",
      "File \u001b[1;32mzmq\\\\backend\\\\cython\\\\socket.pyx:742\u001b[0m, in \u001b[0;36mzmq.backend.cython.socket.Socket.send\u001b[1;34m()\u001b[0m\n",
      "File \u001b[1;32mzmq\\\\backend\\\\cython\\\\socket.pyx:789\u001b[0m, in \u001b[0;36mzmq.backend.cython.socket.Socket.send\u001b[1;34m()\u001b[0m\n",
      "File \u001b[1;32mzmq\\\\backend\\\\cython\\\\socket.pyx:250\u001b[0m, in \u001b[0;36mzmq.backend.cython.socket._send_copy\u001b[1;34m()\u001b[0m\n",
      "File \u001b[1;32m~\\anaconda3\\envs\\hhy\\Lib\\site-packages\\zmq\\backend\\cython\\checkrc.pxd:13\u001b[0m, in \u001b[0;36mzmq.backend.cython.checkrc._check_rc\u001b[1;34m()\u001b[0m\n",
      "\u001b[1;31mKeyboardInterrupt\u001b[0m: "
     ]
    }
   ],
   "source": [
    "from fractions import Fraction\n",
    "from math import gcd,ceil,log2,pi\n",
    "import time\n",
    "start_time = time.time()\n",
    "\n",
    "#a = 8\n",
    "#N = 15\n",
    "\n",
    "FACTOR_FOUND = False\n",
    "ATTEMPT = 0\n",
    "while not FACTOR_FOUND:\n",
    "    ATTEMPT += 1\n",
    "    print(f\"\\nAttempt {ATTEMPT}\")\n",
    "\n",
    "    phase = phase_estimation_2(\n",
    "        c_amod15_2(a,N),\n",
    "        psi_prep,\n",
    "        precision=Q\n",
    "    )\n",
    "    frac = Fraction(phase).limit_denominator(N)\n",
    "    r = frac.denominator\n",
    "    print(f\"r:{r}\")\n",
    "    if phase != 0:\n",
    "        # Guess for a factor is gcd(x^{r/2} - 1 , 15)\n",
    "        guess = gcd(a ** (r // 2) - 1, N)\n",
    "        if guess not in [1, N] and (N % guess) == 0:\n",
    "            # Guess is a factor!\n",
    "            print(f\"Non-trivial factor found: {guess}\")\n",
    "            FACTOR_FOUND = True\n",
    "\n",
    "\n",
    "end_time = time.time()  # End time\n",
    "elapsed_time = end_time - start_time  # Calculate elapsed time\n",
    "\n",
    "print(f\"Elapsed time: {elapsed_time:.2f} seconds\")"
   ]
  },
  {
   "cell_type": "code",
   "execution_count": null,
   "id": "47ca707d-2fe2-4d79-97ae-75763320eef4",
   "metadata": {},
   "outputs": [],
   "source": []
  },
  {
   "cell_type": "code",
   "execution_count": null,
   "id": "ff77beb5-92a6-46ff-bdf0-83f31e1deb26",
   "metadata": {},
   "outputs": [],
   "source": []
  },
  {
   "cell_type": "code",
   "execution_count": null,
   "id": "bed11de6-f004-44c9-bf21-86e59cc9870c",
   "metadata": {},
   "outputs": [],
   "source": []
  },
  {
   "cell_type": "code",
   "execution_count": null,
   "id": "a8b49340-b4fe-434e-bbb8-9631e15c370b",
   "metadata": {},
   "outputs": [],
   "source": [
    "# theta = 0.025 # for 20 bits\n",
    "\"\"\"\n",
    "Attempt 8\n",
    "num_qubits:20\n",
    "\n",
    "gate_counts:102\n",
    "C:\\Users\\user.DESKTOP-JAJ50S0\\AppData\\Local\\Temp\\ipykernel_15416\\3410879387.py:15: DeprecationWarning: Sampler has been deprecated as of Aer 0.15, please use SamplerV2 instead.\n",
    "  phase = phase_estimation_2(\n",
    "r:645341\n",
    "Non-trivial factor found: 821\n",
    "Elapsed time: 15.93 seconds\n",
    "\n",
    "\"\"\""
   ]
  },
  {
   "cell_type": "code",
   "execution_count": null,
   "id": "98897c22-6787-4373-9b98-e7b2ec37a4df",
   "metadata": {},
   "outputs": [],
   "source": [
    "# theta = 0.01\n",
    "\n",
    "\"\"\"\n",
    "Attempt 26\n",
    "num_qubits:18\n",
    "gate_counts:92\n",
    "C:\\Users\\user.DESKTOP-JAJ50S0\\AppData\\Local\\Temp\\ipykernel_17896\\3410879387.py:15: DeprecationWarning: Sampler has been deprecated as of Aer 0.15, please use SamplerV2 instead.\n",
    "  phase = phase_estimation_2(\n",
    "r:89183\n",
    "Non-trivial factor found: 431\n",
    "Elapsed time: 14.77 seconds\n",
    "\n",
    "\"\"\""
   ]
  },
  {
   "cell_type": "code",
   "execution_count": null,
   "id": "9427e879-1634-4cf5-b7b3-77bb6e73a38b",
   "metadata": {},
   "outputs": [],
   "source": [
    "# theta = 0.1\n",
    "\"\"\"\n",
    "Attempt 15\n",
    "num_qubits:18\n",
    "gate_counts:92\n",
    "C:\\Users\\user.DESKTOP-JAJ50S0\\AppData\\Local\\Temp\\ipykernel_11796\\3410879387.py:15: DeprecationWarning: Sampler has been deprecated as of Aer 0.15, please use SamplerV2 instead.\n",
    "  phase = phase_estimation_2(\n",
    "r:152134\n",
    "Non-trivial factor found: 431\n",
    "Elapsed time: 7.81 seconds\n",
    "\n",
    "\n",
    "Attempt 18\n",
    "num_qubits:18\n",
    "gate_counts:92\n",
    "C:\\Users\\user.DESKTOP-JAJ50S0\\AppData\\Local\\Temp\\ipykernel_15416\\3410879387.py:15: DeprecationWarning: Sampler has been deprecated as of Aer 0.15, please use SamplerV2 instead.\n",
    "  phase = phase_estimation_2(\n",
    "r:166153\n",
    "Non-trivial factor found: 431\n",
    "Elapsed time: 9.52 seconds\n",
    "\n",
    "\"\"\""
   ]
  },
  {
   "cell_type": "code",
   "execution_count": null,
   "id": "637b7c37-fedf-4322-82be-ec236c1ae9c4",
   "metadata": {},
   "outputs": [],
   "source": [
    "\"\"\"\n",
    "Attempt 25\n",
    "num_qubits:16\n",
    "gate_counts:82\n",
    "C:\\Users\\user.DESKTOP-JAJ50S0\\AppData\\Local\\Temp\\ipykernel_11796\\3410879387.py:15: DeprecationWarning: Sampler has been deprecated as of Aer 0.15, please use SamplerV2 instead.\n",
    "  phase = phase_estimation_2(\n",
    "C:\\Users\\user.DESKTOP-JAJ50S0\\AppData\\Local\\Temp\\ipykernel_11796\\3410879387.py:15: DeprecationWarning: Sampler has been deprecated as of Aer 0.15, please use SamplerV2 instead.\n",
    "  phase = phase_estimation_2(\n",
    "r:35446\n",
    "Non-trivial factor found: 223\n",
    "Elapsed time: 6.06 seconds\n",
    "\n",
    "\n",
    "Attempt 12\n",
    "num_qubits:16\n",
    "C:\\Users\\user.DESKTOP-JAJ50S0\\AppData\\Local\\Temp\\ipykernel_15416\\3410879387.py:15: DeprecationWarning: Sampler has been deprecated as of Aer 0.15, please use SamplerV2 instead.\n",
    "  phase = phase_estimation_2(\n",
    "gate_counts:82\n",
    "r:35669\n",
    "Non-trivial factor found: 223\n",
    "Elapsed time: 2.90 seconds\n",
    "\"\"\""
   ]
  },
  {
   "cell_type": "code",
   "execution_count": null,
   "id": "c6177ece-215c-4e6a-9498-51562dc8be51",
   "metadata": {},
   "outputs": [],
   "source": [
    "\"\"\"\n",
    "Attempt 6\n",
    "num_qubits:14\n",
    "gate_counts:72\n",
    "C:\\Users\\user.DESKTOP-JAJ50S0\\AppData\\Local\\Temp\\ipykernel_11796\\3410879387.py:15: DeprecationWarning: Sampler has been deprecated as of Aer 0.15, please use SamplerV2 instead.\n",
    "  phase = phase_estimation_2(\n",
    "C:\\Users\\user.DESKTOP-JAJ50S0\\AppData\\Local\\Temp\\ipykernel_11796\\3410879387.py:15: DeprecationWarning: Sampler has been deprecated as of Aer 0.15, please use SamplerV2 instead.\n",
    "  phase = phase_estimation_2(\n",
    "r:9980\n",
    "Non-trivial factor found: 101\n",
    "Elapsed time: 0.97 seconds\n",
    "\n",
    "\n",
    "Attempt 1\n",
    "num_qubits:14\n",
    "gate_counts:72\n",
    "r:9980\n",
    "Non-trivial factor found: 101\n",
    "Elapsed time: 0.13 seconds\n",
    "\n",
    "\"\"\""
   ]
  },
  {
   "cell_type": "code",
   "execution_count": null,
   "id": "a3a0eb20-844b-461a-ad0c-772ffeeb63cb",
   "metadata": {},
   "outputs": [],
   "source": [
    "\"\"\"\n",
    "Attempt 96\n",
    "num_qubits:12\n",
    "gate_counts:62\n",
    "C:\\Users\\user.DESKTOP-JAJ50S0\\AppData\\Local\\Temp\\ipykernel_15416\\3410879387.py:15: DeprecationWarning: Sampler has been deprecated as of Aer 0.15, please use SamplerV2 instead.\n",
    "  phase = phase_estimation_2(\n",
    "C:\\Users\\user.DESKTOP-JAJ50S0\\AppData\\Local\\Temp\\ipykernel_15416\\3410879387.py:15: DeprecationWarning: Sampler has been deprecated as of Aer 0.15, please use SamplerV2 instead.\n",
    "  phase = phase_estimation_2(\n",
    "r:2913\n",
    "Non-trivial factor found: 53\n",
    "Elapsed time: 14.00 seconds\n",
    "\n",
    "\"\"\""
   ]
  },
  {
   "cell_type": "code",
   "execution_count": null,
   "id": "c444e370-33fe-480d-9f9a-cecd01c72012",
   "metadata": {},
   "outputs": [],
   "source": [
    "\"\"\"\n",
    "Attempt 53\n",
    "num_qubits:10\n",
    "gate_counts:52\n",
    "r:561\n",
    "Non-trivial factor found: 29\n",
    "Elapsed time: 5.03 seconds\n",
    "\n",
    "\"\"\""
   ]
  },
  {
   "cell_type": "code",
   "execution_count": null,
   "id": "dc2c6886-cc0f-4c7c-b04d-ac898c8ce1b3",
   "metadata": {},
   "outputs": [],
   "source": [
    "#clean up\n",
    "#del U, Q\n",
    "#del result, phase\n",
    "#del psi_prep"
   ]
  },
  {
   "cell_type": "markdown",
   "id": "d69fcca9-6545-4f8a-9758-0865e240a57e",
   "metadata": {},
   "source": [
    "A plot of the execution results is shown above. Compare this with the calculated values."
   ]
  },
  {
   "cell_type": "markdown",
   "id": "f4545dfd-da08-4ac1-87c9-b426a92de748",
   "metadata": {},
   "source": [
    "Footnotes\n",
    "\n",
    "[1] This section is based on [10], [14], and [16].\n",
    "\n",
    "[2] https://research.ibm.com/blog/factor-15-shors-algorithm\n",
    "\n",
    "[3] https://en.wikipedia.org/wiki/Integer_factorization_records#Records_for_efforts_by_quantum_computers"
   ]
  }
 ],
 "metadata": {
  "kernelspec": {
   "display_name": "Python 3 (ipykernel)",
   "language": "python",
   "name": "python3"
  },
  "language_info": {
   "codemirror_mode": {
    "name": "ipython",
    "version": 3
   },
   "file_extension": ".py",
   "mimetype": "text/x-python",
   "name": "python",
   "nbconvert_exporter": "python",
   "pygments_lexer": "ipython3",
   "version": "3.12.4"
  }
 },
 "nbformat": 4,
 "nbformat_minor": 5
}
